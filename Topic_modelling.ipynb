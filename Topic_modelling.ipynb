{
 "cells": [
  {
   "cell_type": "code",
   "execution_count": 1,
   "metadata": {},
   "outputs": [],
   "source": [
    "import pandas as pd"
   ]
  },
  {
   "cell_type": "code",
   "execution_count": 2,
   "metadata": {},
   "outputs": [],
   "source": [
    "Stim = pd.read_csv(\"Data/Stim_Klopfenstein_2024.csv\")"
   ]
  },
  {
   "cell_type": "code",
   "execution_count": 3,
   "metadata": {},
   "outputs": [],
   "source": [
    "Stim = Stim.dropna()"
   ]
  },
  {
   "cell_type": "code",
   "execution_count": 4,
   "metadata": {},
   "outputs": [],
   "source": [
    "Stim = Stim[Stim[\"used\"] == \"yes\"]"
   ]
  },
  {
   "cell_type": "code",
   "execution_count": 5,
   "metadata": {},
   "outputs": [],
   "source": [
    "from bunkatopics import Bunka\n",
    "from langchain_community.embeddings import HuggingFaceEmbeddings"
   ]
  },
  {
   "cell_type": "code",
   "execution_count": 6,
   "metadata": {},
   "outputs": [],
   "source": [
    "docs = Stim[\"question\"].tolist()"
   ]
  },
  {
   "cell_type": "code",
   "execution_count": 1,
   "metadata": {},
   "outputs": [
    {
     "ename": "NameError",
     "evalue": "name 'HuggingFaceEmbeddings' is not defined",
     "output_type": "error",
     "traceback": [
      "\u001b[1;31m---------------------------------------------------------------------------\u001b[0m",
      "\u001b[1;31mNameError\u001b[0m                                 Traceback (most recent call last)",
      "Cell \u001b[1;32mIn[1], line 1\u001b[0m\n\u001b[1;32m----> 1\u001b[0m embedding_model \u001b[38;5;241m=\u001b[39m \u001b[43mHuggingFaceEmbeddings\u001b[49m(model_name\u001b[38;5;241m=\u001b[39m\u001b[38;5;124m\"\u001b[39m\u001b[38;5;124mall-mpnet-base-v2\u001b[39m\u001b[38;5;124m\"\u001b[39m,\u001b[38;5;66;03m# We recommend starting with a small model\u001b[39;00m\n\u001b[0;32m      2\u001b[0m                                         model_kwargs\u001b[38;5;241m=\u001b[39m{\u001b[38;5;124m\"\u001b[39m\u001b[38;5;124mdevice\u001b[39m\u001b[38;5;124m\"\u001b[39m: \u001b[38;5;124m\"\u001b[39m\u001b[38;5;124mcpu\u001b[39m\u001b[38;5;124m\"\u001b[39m}, \u001b[38;5;66;03m# Or cuda if you have GPU # Show the progress of embeddings\u001b[39;00m\n\u001b[0;32m      3\u001b[0m                                         multi_process\u001b[38;5;241m=\u001b[39m\u001b[38;5;28;01mFalse\u001b[39;00m)\n\u001b[0;32m      5\u001b[0m bunka \u001b[38;5;241m=\u001b[39m Bunka(embedding_model\u001b[38;5;241m=\u001b[39membedding_model, language\u001b[38;5;241m=\u001b[39m\u001b[38;5;124m'\u001b[39m\u001b[38;5;124menglish\u001b[39m\u001b[38;5;124m'\u001b[39m)\n\u001b[0;32m      7\u001b[0m bunka\u001b[38;5;241m.\u001b[39mfit(docs)\n",
      "\u001b[1;31mNameError\u001b[0m: name 'HuggingFaceEmbeddings' is not defined"
     ]
    }
   ],
   "source": [
    "embedding_model = HuggingFaceEmbeddings(model_name=\"all-mpnet-base-v2\",# We recommend starting with a small model\n",
    "                                        model_kwargs={\"device\": \"cpu\"}, # Or cuda if you have GPU # Show the progress of embeddings\n",
    "                                        multi_process=False)\n",
    "\n",
    "bunka = Bunka(embedding_model=embedding_model, language='english')\n",
    "\n",
    "bunka.fit(docs)\n"
   ]
  },
  {
   "cell_type": "code",
   "execution_count": 8,
   "metadata": {},
   "outputs": [
    {
     "name": "stderr",
     "output_type": "stream",
     "text": [
      "\u001b[32m2024-03-28 15:04:43 - \u001b[94mBunka\u001b[0m - INFO - \u001b[1mThere is not enough data to select terms with a minimum occurrence of 2. Setting min_count_terms to 1\u001b[0m\n",
      "\u001b[32m2024-03-28 15:04:43 - \u001b[94mBunka\u001b[0m - INFO - \u001b[1mComputing the topics\u001b[0m\n"
     ]
    },
    {
     "data": {
      "text/html": [
       "<div>\n",
       "<style scoped>\n",
       "    .dataframe tbody tr th:only-of-type {\n",
       "        vertical-align: middle;\n",
       "    }\n",
       "\n",
       "    .dataframe tbody tr th {\n",
       "        vertical-align: top;\n",
       "    }\n",
       "\n",
       "    .dataframe thead th {\n",
       "        text-align: right;\n",
       "    }\n",
       "</style>\n",
       "<table border=\"1\" class=\"dataframe\">\n",
       "  <thead>\n",
       "    <tr style=\"text-align: right;\">\n",
       "      <th></th>\n",
       "      <th>topic_id</th>\n",
       "      <th>topic_name</th>\n",
       "      <th>size</th>\n",
       "      <th>percent</th>\n",
       "    </tr>\n",
       "  </thead>\n",
       "  <tbody>\n",
       "    <tr>\n",
       "      <th>0</th>\n",
       "      <td>bt-0</td>\n",
       "      <td>cars | planes | game | video | TV</td>\n",
       "      <td>18</td>\n",
       "      <td>12.00</td>\n",
       "    </tr>\n",
       "    <tr>\n",
       "      <th>1</th>\n",
       "      <td>bt-7</td>\n",
       "      <td>USB | standard | dishwashers | water | Ethernet</td>\n",
       "      <td>17</td>\n",
       "      <td>11.33</td>\n",
       "    </tr>\n",
       "    <tr>\n",
       "      <th>2</th>\n",
       "      <td>bt-1</td>\n",
       "      <td>eyes | headache | boredom | brains | state</td>\n",
       "      <td>14</td>\n",
       "      <td>9.33</td>\n",
       "    </tr>\n",
       "    <tr>\n",
       "      <th>3</th>\n",
       "      <td>bt-2</td>\n",
       "      <td>difference | root | plants | birds | soil</td>\n",
       "      <td>14</td>\n",
       "      <td>9.33</td>\n",
       "    </tr>\n",
       "    <tr>\n",
       "      <th>4</th>\n",
       "      <td>bt-10</td>\n",
       "      <td>buildings | steel | material | radius | lumps</td>\n",
       "      <td>13</td>\n",
       "      <td>8.67</td>\n",
       "    </tr>\n",
       "    <tr>\n",
       "      <th>5</th>\n",
       "      <td>bt-6</td>\n",
       "      <td>drink | blood | step | break | treatment</td>\n",
       "      <td>13</td>\n",
       "      <td>8.67</td>\n",
       "    </tr>\n",
       "    <tr>\n",
       "      <th>6</th>\n",
       "      <td>bt-11</td>\n",
       "      <td>years | scientists | universe | space | geolog...</td>\n",
       "      <td>11</td>\n",
       "      <td>7.33</td>\n",
       "    </tr>\n",
       "    <tr>\n",
       "      <th>7</th>\n",
       "      <td>bt-8</td>\n",
       "      <td>ocean | hurricanes | animals | disasters | night</td>\n",
       "      <td>11</td>\n",
       "      <td>7.33</td>\n",
       "    </tr>\n",
       "    <tr>\n",
       "      <th>8</th>\n",
       "      <td>bt-9</td>\n",
       "      <td>batteries | phone | card | detail | book</td>\n",
       "      <td>11</td>\n",
       "      <td>7.33</td>\n",
       "    </tr>\n",
       "    <tr>\n",
       "      <th>9</th>\n",
       "      <td>bt-3</td>\n",
       "      <td>tires | roads | loan | buyer | bank</td>\n",
       "      <td>10</td>\n",
       "      <td>6.67</td>\n",
       "    </tr>\n",
       "    <tr>\n",
       "      <th>10</th>\n",
       "      <td>bt-4</td>\n",
       "      <td>body | chest | face | acne | slope</td>\n",
       "      <td>10</td>\n",
       "      <td>6.67</td>\n",
       "    </tr>\n",
       "    <tr>\n",
       "      <th>11</th>\n",
       "      <td>bt-5</td>\n",
       "      <td>gases | dollar | increases | services | money</td>\n",
       "      <td>8</td>\n",
       "      <td>5.33</td>\n",
       "    </tr>\n",
       "  </tbody>\n",
       "</table>\n",
       "</div>"
      ],
      "text/plain": [
       "   topic_id                                         topic_name  size  percent\n",
       "0      bt-0                  cars | planes | game | video | TV    18    12.00\n",
       "1      bt-7    USB | standard | dishwashers | water | Ethernet    17    11.33\n",
       "2      bt-1         eyes | headache | boredom | brains | state    14     9.33\n",
       "3      bt-2          difference | root | plants | birds | soil    14     9.33\n",
       "4     bt-10      buildings | steel | material | radius | lumps    13     8.67\n",
       "5      bt-6           drink | blood | step | break | treatment    13     8.67\n",
       "6     bt-11  years | scientists | universe | space | geolog...    11     7.33\n",
       "7      bt-8   ocean | hurricanes | animals | disasters | night    11     7.33\n",
       "8      bt-9           batteries | phone | card | detail | book    11     7.33\n",
       "9      bt-3                tires | roads | loan | buyer | bank    10     6.67\n",
       "10     bt-4                 body | chest | face | acne | slope    10     6.67\n",
       "11     bt-5      gases | dollar | increases | services | money     8     5.33"
      ]
     },
     "execution_count": 8,
     "metadata": {},
     "output_type": "execute_result"
    }
   ],
   "source": [
    "bunka.get_topics(n_clusters=12, name_length=5)"
   ]
  },
  {
   "cell_type": "code",
   "execution_count": 11,
   "metadata": {},
   "outputs": [
    {
     "data": {
      "application/vnd.jupyter.widget-view+json": {
       "model_id": "5452ce36fa5b4de5bd15354e0acaa100",
       "version_major": 2,
       "version_minor": 0
      },
      "text/plain": [
       "VBox(children=(HTML(value='Manually input the new topic names: '), Text(value='cars | planes | game | video | …"
      ]
     },
     "metadata": {},
     "output_type": "display_data"
    },
    {
     "data": {
      "application/vnd.jupyter.widget-view+json": {
       "model_id": "aca13c389117414da9ac40d93c542eec",
       "version_major": 2,
       "version_minor": 0
      },
      "text/plain": [
       "Button(description='Apply Changes', style=ButtonStyle(button_color='#2596be'))"
      ]
     },
     "metadata": {},
     "output_type": "display_data"
    },
    {
     "name": "stderr",
     "output_type": "stream",
     "text": [
      "\u001b[32m2024-03-28 15:14:03 - \u001b[94mBunka\u001b[0m - INFO - \u001b[1mChanges Applied!\u001b[0m\n"
     ]
    }
   ],
   "source": [
    "bunka.manually_clean_topics()"
   ]
  },
  {
   "cell_type": "code",
   "execution_count": 12,
   "metadata": {},
   "outputs": [
    {
     "name": "stderr",
     "output_type": "stream",
     "text": [
      "\u001b[32m2024-03-28 15:14:36 - \u001b[94mBunka\u001b[0m - INFO - \u001b[1mCreating the Bunka Map\u001b[0m\n"
     ]
    }
   ],
   "source": [
    "plot = bunka.visualize_topics(width=800, height=800, colorscale='Blues')"
   ]
  },
  {
   "cell_type": "code",
   "execution_count": 13,
   "metadata": {},
   "outputs": [
    {
     "data": {
      "application/vnd.plotly.v1+json": {
       "config": {
        "plotlyServerURL": "https://plot.ly"
       },
       "data": [
        {
         "colorscale": [
          [
           0,
           "rgb(247,251,255)"
          ],
          [
           0.125,
           "rgb(222,235,247)"
          ],
          [
           0.25,
           "rgb(198,219,239)"
          ],
          [
           0.375,
           "rgb(158,202,225)"
          ],
          [
           0.5,
           "rgb(107,174,214)"
          ],
          [
           0.625,
           "rgb(66,146,198)"
          ],
          [
           0.75,
           "rgb(33,113,181)"
          ],
          [
           0.875,
           "rgb(8,81,156)"
          ],
          [
           1,
           "rgb(8,48,107)"
          ]
         ],
         "contours": {
          "coloring": "fill",
          "showlabels": false
         },
         "hoverinfo": "none",
         "showscale": false,
         "type": "histogram2dcontour",
         "x": [
          2.637284994125366,
          4.795155048370361,
          3.351938009262085,
          2.2872941493988037,
          3.1216859817504883,
          3.2489774227142334,
          3.0193419456481934,
          3.010343074798584,
          0.005292218644171953,
          0.931714653968811,
          4.345388412475586,
          2.5627455711364746,
          4.881083011627197,
          4.7710676193237305,
          2.8682072162628174,
          1.4422365427017212,
          3.624049663543701,
          3.8405280113220215,
          0.8579026460647583,
          0.28250962495803833,
          3.822554349899292,
          3.9161572456359863,
          1.7512857913970947,
          1.2299244403839111,
          2.5540409088134766,
          0.7123173475265503,
          4.362724304199219,
          2.183419942855835,
          3.031449317932129,
          4.483455181121826,
          4.450128078460693,
          1.026571273803711,
          4.909087181091309,
          2.0437281131744385,
          1.781800389289856,
          1.4673713445663452,
          2.211103677749634,
          4.051448345184326,
          4.057469844818115,
          2.687037706375122,
          1.725351333618164,
          2.383553981781006,
          1.1112723350524902,
          0.1922440528869629,
          0.9174049496650696,
          1.3270615339279175,
          4.142514705657959,
          0.8423786163330078,
          1.8112549781799316,
          3.342942714691162,
          5.00501823425293,
          3.6267693042755127,
          1.5647671222686768,
          2.87396240234375,
          3.1061301231384277,
          1.7233422994613647,
          1.4686412811279297,
          1.399566650390625,
          3.745434522628784,
          2.877202272415161,
          0.0326584167778492,
          5.161256790161133,
          5.2439165115356445,
          1.251334309577942,
          0.07009480148553848,
          1.1438040733337402,
          -0.15215007960796356,
          4.040710926055908,
          0.46757450699806213,
          1.7770670652389526,
          1.201305866241455,
          1.4107486009597778,
          3.712101936340332,
          0.14885979890823364,
          5.001626968383789,
          1.2750614881515503,
          0.026697581633925438,
          3.138713836669922,
          2.9064390659332275,
          1.351971983909607,
          3.794687271118164,
          0.8821787238121033,
          2.385808229446411,
          0.8999459147453308,
          3.5243711471557617,
          2.7398781776428223,
          3.174862861633301,
          5.018161773681641,
          3.0418448448181152,
          1.8572336435317993,
          4.2175092697143555,
          1.8396470546722412,
          4.404102325439453,
          5.026291847229004,
          0.45771750807762146,
          2.055527687072754,
          5.124263286590576,
          2.4525363445281982,
          0.15193265676498413,
          1.1264317035675049,
          2.7851004600524902,
          2.4247260093688965,
          0.20523439347743988,
          2.8341076374053955,
          4.251655101776123,
          0.7837209701538086,
          5.143691539764404,
          3.258247137069702,
          1.9411031007766724,
          4.031132221221924,
          0.7380808591842651,
          3.7024693489074707,
          2.4615559577941895,
          0.6637213826179504,
          5.068166255950928,
          0.7512925863265991,
          -0.1189279854297638,
          1.836527705192566,
          1.191368818283081,
          5.236676216125488,
          3.8086845874786377,
          0.6561118960380554,
          2.599771738052368,
          2.462789535522461,
          2.6339519023895264,
          3.792797088623047,
          3.5919675827026367,
          0.6720057129859924,
          0.7061070203781128,
          2.6116273403167725,
          1.4604212045669556,
          1.6801410913467407,
          2.625333070755005,
          4.479835510253906,
          4.3746337890625,
          3.7874536514282227,
          2.877272367477417,
          3.4469258785247803,
          1.9530906677246094,
          2.0610337257385254,
          4.742810249328613,
          1.2490984201431274,
          4.824325084686279,
          0.6762973666191101,
          2.195039987564087,
          2.3455889225006104,
          2.1195287704467773,
          0.44006988406181335,
          1.0587371587753296,
          1.7747853994369507
         ],
         "y": [
          11.194474220275879,
          8.114680290222168,
          9.912147521972656,
          10.704025268554688,
          9.071407318115234,
          7.757616996765137,
          10.04306411743164,
          10.611226081848145,
          8.555353164672852,
          10.053260803222656,
          8.136879920959473,
          8.405172348022461,
          9.537976264953613,
          9.056975364685059,
          8.698017120361328,
          9.7435884475708,
          10.956262588500977,
          9.882241249084473,
          10.263043403625488,
          8.970345497131348,
          7.404807090759277,
          10.210780143737793,
          9.270668029785156,
          8.036739349365234,
          8.905625343322754,
          10.816174507141113,
          8.813675880432129,
          9.499139785766602,
          8.707727432250977,
          8.760920524597168,
          8.771462440490723,
          7.172150611877441,
          9.212154388427734,
          7.6457672119140625,
          8.09206485748291,
          8.936912536621094,
          9.865143775939941,
          8.972339630126953,
          7.993292331695557,
          9.27888011932373,
          7.495301246643066,
          11.019319534301758,
          10.90137004852295,
          8.241342544555664,
          8.483758926391602,
          7.11000919342041,
          9.531817436218262,
          8.929956436157227,
          7.492836952209473,
          8.895983695983887,
          9.708115577697754,
          7.482349395751953,
          7.179656028747559,
          10.028006553649902,
          7.568663120269775,
          8.447925567626953,
          7.888269901275635,
          10.100068092346191,
          7.645008563995361,
          7.722207069396973,
          8.40875244140625,
          8.499903678894043,
          9.299221992492676,
          8.469873428344727,
          9.404108047485352,
          9.825886726379395,
          8.386165618896484,
          7.620399475097656,
          8.338143348693848,
          9.341559410095215,
          8.9174165725708,
          7.20277738571167,
          10.8091402053833,
          9.244902610778809,
          9.427738189697266,
          8.274486541748047,
          8.112488746643066,
          9.28147029876709,
          11.330933570861816,
          10.12553596496582,
          10.705879211425781,
          9.533889770507812,
          7.7355756759643555,
          10.63292121887207,
          7.981812953948975,
          7.955009460449219,
          10.960515022277832,
          8.771197319030762,
          9.410578727722168,
          11.310660362243652,
          8.139566421508789,
          9.38701057434082,
          8.078407287597656,
          9.492960929870605,
          7.799747467041016,
          11.144634246826172,
          8.402758598327637,
          9.85477352142334,
          9.14042854309082,
          7.668023586273193,
          7.585784912109375,
          9.131291389465332,
          7.926775932312012,
          9.926471710205078,
          8.61937141418457,
          7.555732727050781,
          8.44485855102539,
          8.37326717376709,
          11.27768325805664,
          8.465388298034668,
          7.479864120483398,
          9.343917846679688,
          11.33377456665039,
          9.488790512084961,
          8.223379135131836,
          7.605796813964844,
          8.610725402832031,
          10.786548614501953,
          8.795572280883789,
          9.29045295715332,
          10.771331787109375,
          9.797163009643555,
          8.531784057617188,
          8.110692977905273,
          9.873371124267578,
          8.611909866333008,
          10.201464653015137,
          10.658317565917969,
          8.066963195800781,
          9.783256530761719,
          10.785996437072754,
          10.45631217956543,
          8.021308898925781,
          9.328609466552734,
          9.423490524291992,
          10.589895248413086,
          8.4215726852417,
          8.381355285644531,
          10.125289916992188,
          10.793828010559082,
          7.884123802185059,
          9.678786277770996,
          8.258076667785645,
          10.396254539489746,
          9.603414535522461,
          11.39017105102539,
          8.410099029541016,
          8.920384407043457,
          8.174386978149414,
          10.344847679138184
         ]
        },
        {
         "customdata": [
          [
           [
            "bt-11"
           ],
           [
            "How do scientists figure out how old writing is? If<br>you have a stone with writing carved on it, you<br>can carbon date it to find the age of the<br>stone itself, but that doesn’t tell you when it was<br>carved.<br>"
           ],
           [
            null
           ]
          ],
          [
           [
            "bt-4"
           ],
           [
            "Why is \"beer gut\" fat firm and stored in one<br>place when other fat (from over eating, etc) is stored<br>throughout the body and appears more \"loose\"?<br>"
           ],
           [
            null
           ]
          ],
          [
           [
            "bt-9"
           ],
           [
            "How do egg cells “know” not to accept more sperm<br>once fertilized? How do they keep the rest out?<br>"
           ],
           [
            null
           ]
          ],
          [
           [
            "bt-11"
           ],
           [
            "Why is a Planck’s length the smallest possible distance?<br>"
           ],
           [
            null
           ]
          ],
          [
           [
            "bt-2"
           ],
           [
            "What is the difference between how a strong acid would<br>burn you as opposed to how a strong base would?<br>"
           ],
           [
            null
           ]
          ],
          [
           [
            "bt-7"
           ],
           [
            "Why is it so common for ballpoint pens to jam<br>when there's plenty of ink left in the tube?<br>"
           ],
           [
            null
           ]
          ],
          [
           [
            "bt-2"
           ],
           [
            "how is it possible that we can only see between<br>430-770 Thz and hear 20hz-20khz? Does that mean there are<br>things around us we just cannot hear or see?<br>"
           ],
           [
            null
           ]
          ],
          [
           [
            "bt-9"
           ],
           [
            "If there are billions of transistors in a CPU, there<br>is no chance that somebody designed every single one of<br>them manually. Is their layout calculated or something?<br>"
           ],
           [
            null
           ]
          ],
          [
           [
            "bt-3"
           ],
           [
            "Why are sidewalks made with cracks in them while roads<br>are one flat piece with no breaks<br>"
           ],
           [
            null
           ]
          ],
          [
           [
            "bt-5"
           ],
           [
            "is power only generated by spinning turbines? (besides solar)<br>"
           ],
           [
            null
           ]
          ],
          [
           [
            "bt-6"
           ],
           [
            "Why does rectal hydration hydrates the body faster than oral<br>hydration?<br>"
           ],
           [
            null
           ]
          ],
          [
           [
            "bt-7"
           ],
           [
            "How can my fancy new dishwashers \"ECO\" mode last 5<br>hours? How is that good for the environment?<br>"
           ],
           [
            null
           ]
          ],
          [
           [
            "bt-1"
           ],
           [
            "What is sinus congestion? Why does it happen? Where does<br>it go when it clears up?<br>"
           ],
           [
            null
           ]
          ],
          [
           [
            "bt-1"
           ],
           [
            "how do we store stress in our bodies?<br>"
           ],
           [
            null
           ]
          ],
          [
           [
            "bt-7"
           ],
           [
            "How does a hotel always have hot water for every<br>occupant?<br>"
           ],
           [
            null
           ]
          ],
          [
           [
            "bt-8"
           ],
           [
            "In a flooding event (i.e. hurricane, etc.), do officials preemptively<br>shut off electricity to prevent electrocution from downed power lines?<br>If not, how don’t people get injured?<br>"
           ],
           [
            null
           ]
          ],
          [
           [
            "bt-9"
           ],
           [
            "What are compressed and uncompressed files, how does it all<br>work and why compressed files take less storage?<br>"
           ],
           [
            null
           ]
          ],
          [
           [
            "bt-9"
           ],
           [
            "What is the static that plays when a radio is<br>tuned to a number without a radio station?<br>"
           ],
           [
            null
           ]
          ],
          [
           [
            "bt-5"
           ],
           [
            "Japan homes only lose value. How? Why?<br>"
           ],
           [
            null
           ]
          ],
          [
           [
            "bt-10"
           ],
           [
            "why do we make bullets out of lead instead of<br>a harder metal like steel<br>"
           ],
           [
            null
           ]
          ],
          [
           [
            "bt-6"
           ],
           [
            "Why does the shower curtain try to grab me?<br>"
           ],
           [
            null
           ]
          ],
          [
           [
            "bt-9"
           ],
           [
            "What exactly happens when a WiFi router stops working and<br>needs to be restarted to give you internet connection again?<br>"
           ],
           [
            null
           ]
          ],
          [
           [
            "bt-8"
           ],
           [
            "why do the biggest animals seem to come from the<br>deepest part of the ocean? Giant squid, or sharks... Is<br>it myths of being afraid of the unknown depths or<br>is there a scientific reason like pressure or abundance of<br>food?<br>"
           ],
           [
            null
           ]
          ],
          [
           [
            "bt-0"
           ],
           [
            "Why were early metal body planes shiny and why aren't<br>there shiny new planes anymore?<br>"
           ],
           [
            null
           ]
          ],
          [
           [
            "bt-7"
           ],
           [
            "We can’t drink spoiled milk but we can consume butter<br>milk, yogurt, sour cream, cream cheese etc?<br>"
           ],
           [
            null
           ]
          ],
          [
           [
            "bt-5"
           ],
           [
            "The phrase: “Money is debt”<br>"
           ],
           [
            null
           ]
          ],
          [
           [
            "bt-1"
           ],
           [
            "If the mechanism of action of paracetamol is unknown, why<br>is it considered a safe drug to use for humans?<br>"
           ],
           [
            null
           ]
          ],
          [
           [
            "bt-2"
           ],
           [
            "why do plants get root rot from overwatering, yet you<br>put cuttings in just water to grow new roots? And<br>also just like what’s the difference between that and hydroponic<br>gardening in general?<br>"
           ],
           [
            null
           ]
          ],
          [
           [
            "bt-7"
           ],
           [
            "what astronauts are actually doing for months on the International<br>Space Station besides maintaining the facility?<br>"
           ],
           [
            null
           ]
          ],
          [
           [
            "bt-4"
           ],
           [
            "How exactly does catnip work and is it similar to<br>human drugs?<br>"
           ],
           [
            null
           ]
          ],
          [
           [
            "bt-4"
           ],
           [
            "what is done to botox to make it „safe“ to<br>inject into someone?<br>"
           ],
           [
            null
           ]
          ],
          [
           [
            "bt-0"
           ],
           [
            "Why did old TVs require that the channel be on<br>3 before accessories like VCRs and game consoles could work<br>on them?<br>"
           ],
           [
            null
           ]
          ],
          [
           [
            "bt-1"
           ],
           [
            "How does an intoxicated person’s mind suddenly become sober when<br>something very serious happens?<br>"
           ],
           [
            null
           ]
          ],
          [
           [
            "bt-0"
           ],
           [
            "Why do some high-powered cars \"explode\" out of the exhaust<br>when revving the engine or accelerating?<br>"
           ],
           [
            null
           ]
          ],
          [
           [
            "bt-0"
           ],
           [
            "Is there a reason that the colour purple is associated<br>with royalty?<br>"
           ],
           [
            null
           ]
          ],
          [
           [
            "bt-10"
           ],
           [
            "Why is english the world wide language of communication?<br>"
           ],
           [
            null
           ]
          ],
          [
           [
            "bt-2"
           ],
           [
            "how ants deal with raindrops? Do the rain feel like<br>missile to them?<br>"
           ],
           [
            null
           ]
          ],
          [
           [
            "bt-1"
           ],
           [
            "Why can't you just cut off cancer cells?<br>"
           ],
           [
            null
           ]
          ],
          [
           [
            "bt-6"
           ],
           [
            "What (if any) difference is gained from shaking an alcoholic<br>drink vs stirring it?<br>"
           ],
           [
            null
           ]
          ],
          [
           [
            "bt-2"
           ],
           [
            "How are animals, specifically carrion birds, able to eat rotting<br>flesh without ill effect?<br>"
           ],
           [
            null
           ]
          ],
          [
           [
            "bt-0"
           ],
           [
            "Why are so many photos of celestial bodies ‘enhanced’ to<br>the point where they explain that ‘it would not look<br>like this to the human eye’? Why show me this<br>unreal image in the first place?<br>"
           ],
           [
            null
           ]
          ],
          [
           [
            "bt-11"
           ],
           [
            "If every part of the universe has aged differently owing<br>to time running differently for each part, why do we<br>say the universe is 13.8 billion years old?<br>"
           ],
           [
            null
           ]
          ],
          [
           [
            "bt-5"
           ],
           [
            "Is there an underlying mathematical reason behind why, if the<br>sum of a number's digits is divisible by 3, that<br>number is also divisible by 3?<br>"
           ],
           [
            null
           ]
          ],
          [
           [
            "bt-3"
           ],
           [
            "Why do hatchbacks need rear wipers but sedans do not?<br>"
           ],
           [
            null
           ]
          ],
          [
           [
            "bt-10"
           ],
           [
            "Why is 'houses' the plural of 'house', while the plural<br>for 'mouse' is 'mice'?<br>"
           ],
           [
            null
           ]
          ],
          [
           [
            "bt-0"
           ],
           [
            "Why are close shots in older TV far better quality<br>than wide shots?<br>"
           ],
           [
            null
           ]
          ],
          [
           [
            "bt-1"
           ],
           [
            "If all noise cancelling headphones do is reverse the soundwaves<br>coming into them in order to ‘cancel’ the background noise,<br>why can’t they cancel a sine wave completely?<br>"
           ],
           [
            null
           ]
          ],
          [
           [
            "bt-10"
           ],
           [
            "Why are buildings that are big stores like Meijer, Walmart,<br>Sam's Club, etc., are all such tall buildings if they're<br>only operating on the ground floor?<br>"
           ],
           [
            null
           ]
          ],
          [
           [
            "bt-0"
           ],
           [
            "why do cars in testing phase have such badass painting?<br>why does it look like that?<br>"
           ],
           [
            null
           ]
          ],
          [
           [
            "bt-7"
           ],
           [
            "What makes white phosphorus so dangerous when used as a<br>weapon of war?<br>"
           ],
           [
            null
           ]
          ],
          [
           [
            "bt-1"
           ],
           [
            "what is Gnosticism?<br>"
           ],
           [
            null
           ]
          ],
          [
           [
            "bt-6"
           ],
           [
            "how do suction cups leave an imprint on glass that<br>shows up again when it gets steamy, even after cleaning?<br>"
           ],
           [
            null
           ]
          ],
          [
           [
            "bt-0"
           ],
           [
            "Why do professional camera-people take single or rapid burst shots<br>of the event they’re photographing, instead of using a high<br>quality video camera and selecting the best frame later in<br>edit?<br>"
           ],
           [
            null
           ]
          ],
          [
           [
            "bt-2"
           ],
           [
            "If worker bees kick out and indirectly kill drones during<br>the fall, how do hives acquire drones to mate with<br>the queen during seasons that are much less harsh?<br>"
           ],
           [
            null
           ]
          ],
          [
           [
            "bt-7"
           ],
           [
            "Why exactly is it wrong to remove a USB stick<br>without first clicking \"safely remove/eject\"?<br>"
           ],
           [
            null
           ]
          ],
          [
           [
            "bt-0"
           ],
           [
            "Are attack helicopters usually more well-armored than fighters, but less<br>armored than bombers? How so, and why?<br>"
           ],
           [
            null
           ]
          ],
          [
           [
            "bt-0"
           ],
           [
            "Why is fighting considered part of the game in hockey?<br>"
           ],
           [
            null
           ]
          ],
          [
           [
            "bt-8"
           ],
           [
            "why are there no hurricanes in europe?<br>"
           ],
           [
            null
           ]
          ],
          [
           [
            "bt-6"
           ],
           [
            "why's it when you put some wet fabric, e.g. a<br>towel, on a radiator, it dries all stiff and crusty?<br>"
           ],
           [
            null
           ]
          ],
          [
           [
            "bt-7"
           ],
           [
            "Why home blood tests do not exist, while we can<br>measure our sugar levels with personal devices at home?<br>"
           ],
           [
            null
           ]
          ],
          [
           [
            "bt-3"
           ],
           [
            "Why do wheelbarrows use only 1 wheel? Wouldn’t it be<br>more stable and tip over less if they used 2?<br>"
           ],
           [
            null
           ]
          ],
          [
           [
            "bt-4"
           ],
           [
            "Since the human body is covered in pores, why is<br>acne mostly concentrated on the upper body?<br>"
           ],
           [
            null
           ]
          ],
          [
           [
            "bt-1"
           ],
           [
            "why does pressure on your eyes relieve \"behind the eyes\"<br>headaches?<br>"
           ],
           [
            null
           ]
          ],
          [
           [
            "bt-0"
           ],
           [
            "Why are calories shown in (kcal) and not (cal) when<br>K is shorthand for Kilo (1000) ?<br>"
           ],
           [
            null
           ]
          ],
          [
           [
            "bt-10"
           ],
           [
            "Why does sand which is a bunch of tiny rocks,<br>turn into glass, but we can’t turn big rocks into<br>glass?<br>"
           ],
           [
            null
           ]
          ],
          [
           [
            "bt-8"
           ],
           [
            "In areas that get a lot of hurricanes like New<br>Orleans, why isn't most of the electricity run underground where<br>it's less vulnerable by now?<br>"
           ],
           [
            null
           ]
          ],
          [
           [
            "bt-3"
           ],
           [
            "if contact surface area doesn’t show up in the basic<br>physics equation for frictional force, why do larger tires provide<br>“more grip”?<br>"
           ],
           [
            null
           ]
          ],
          [
           [
            "bt-6"
           ],
           [
            "When you get a roll of tape, the tape is<br>rolled and stuck on top of itself. So how does<br>it not lose its stickiness then? And how does the<br>stickiness instantly fades away when you stick it to something<br>else and then peel of off?<br>"
           ],
           [
            null
           ]
          ],
          [
           [
            "bt-3"
           ],
           [
            ": Is the amount of energy or Force needed to<br>Brake a Car from 100km/h to 50 km/h bigger than<br>the amount needed to brake from 50km/h to 0km/h<br>"
           ],
           [
            null
           ]
          ],
          [
           [
            "bt-8"
           ],
           [
            "How did intelligent life got so advanced on land (humans)<br>than in the oceans considering how the ocean is the<br>greater part of the world and has much more diversity<br>in it?<br>"
           ],
           [
            null
           ]
          ],
          [
           [
            "bt-10"
           ],
           [
            "Why do we hit a limit of 60 for seconds<br>and minutes, but then decimal for hours and miliseconds?<br>"
           ],
           [
            null
           ]
          ],
          [
           [
            "bt-0"
           ],
           [
            "What is it about certain TV's that make the video<br>on screen look like it's live recorded or a soap<br>opera?<br>"
           ],
           [
            null
           ]
          ],
          [
           [
            "bt-9"
           ],
           [
            "How do memory products such as an SD card or<br>flash drive store memory and keep it saved when it<br>doesn't have a power source?<br>"
           ],
           [
            null
           ]
          ],
          [
           [
            "bt-10"
           ],
           [
            "Why are metals smelted into the ingot shape? Would it<br>not be better to just make then into cubes, so<br>they would stack better?<br>"
           ],
           [
            null
           ]
          ],
          [
           [
            "bt-1"
           ],
           [
            "What causes grogginess when you first wake up - what<br>about your brain isn't working?<br>"
           ],
           [
            null
           ]
          ],
          [
           [
            "bt-0"
           ],
           [
            "Why do people pronounce \"Celtics\" (as in Boston Celtics) with<br>a soft s of some kind, so \"seltiks\" instead of<br>\"Keltiks\"?<br>"
           ],
           [
            null
           ]
          ],
          [
           [
            "bt-3"
           ],
           [
            ": Why are multiple screws used to fit modern car<br>tires ? Why can't they use a single nut (like<br>F-1 cars)? Won't it be easier to handle a single<br>screw instead of multiple?<br>"
           ],
           [
            null
           ]
          ],
          [
           [
            "bt-2"
           ],
           [
            "what prevents the flame on a gas stove from igniting<br>the gas that’s in the supply line and blowing everything<br>up?<br>"
           ],
           [
            null
           ]
          ],
          [
           [
            "bt-11"
           ],
           [
            "How do photo restoration artists know the supposed colors of<br>greyscale images?<br>"
           ],
           [
            null
           ]
          ],
          [
           [
            "bt-8"
           ],
           [
            "Why does Haiti have so many natural disasters?<br>"
           ],
           [
            null
           ]
          ],
          [
           [
            "bt-9"
           ],
           [
            "Why are all batteries not rechargeable and what causes batteries<br>to become rechargeable?<br>"
           ],
           [
            null
           ]
          ],
          [
           [
            "bt-10"
           ],
           [
            "Why is there no tall buildings that use lightning and<br>move it to an electrical storage place, then use it<br>to cut costs on electricity?<br>"
           ],
           [
            null
           ]
          ],
          [
           [
            "bt-7"
           ],
           [
            "Why do pipes make clanging noises when hot water goes<br>through them?<br>"
           ],
           [
            null
           ]
          ],
          [
           [
            "bt-5"
           ],
           [
            "With sharp increases to the price of goods and services,<br>where's all this extra money I'm spending going?<br>"
           ],
           [
            null
           ]
          ],
          [
           [
            "bt-6"
           ],
           [
            "Why do powdered donuts feel cold?<br>"
           ],
           [
            null
           ]
          ],
          [
           [
            "bt-7"
           ],
           [
            "How does End Task on a program in the Task<br>Manager close something so much faster than pressing the close<br>button on the program itself?<br>"
           ],
           [
            null
           ]
          ],
          [
           [
            "bt-9"
           ],
           [
            "How do people writing biographies recall their lives in such<br>detail. I barely remember my childhood just bits and pieces<br>here and there. But nothing close to writing a book.<br>"
           ],
           [
            null
           ]
          ],
          [
           [
            "bt-4"
           ],
           [
            "Why do our eyes water and our nose run when<br>we eat spicy food?<br>"
           ],
           [
            null
           ]
          ],
          [
           [
            "bt-2"
           ],
           [
            "How does charcoal burn if it’s already burnt?<br>"
           ],
           [
            null
           ]
          ],
          [
           [
            "bt-11"
           ],
           [
            "How did they know splitting the atom, fission, would release<br>so much energy? And why would the opposite be also<br>true, fusion?<br>"
           ],
           [
            null
           ]
          ],
          [
           [
            "bt-6"
           ],
           [
            "Why does the colonoscopy prep drink make you poop but<br>not pee?<br>"
           ],
           [
            null
           ]
          ],
          [
           [
            "bt-8"
           ],
           [
            "Why did humans advance so far so fast while other<br>intelligent animals did not?<br>"
           ],
           [
            null
           ]
          ],
          [
           [
            "bt-6"
           ],
           [
            "If beer is typically 95% water, why does it dehydrate<br>us?<br>"
           ],
           [
            null
           ]
          ],
          [
           [
            "bt-1"
           ],
           [
            "what a headache is biologically<br>"
           ],
           [
            null
           ]
          ],
          [
           [
            "bt-3"
           ],
           [
            "Why do home sellers prefer a \"cash\" buyer? Wouldn't they<br>get the same amount of $ as a check from<br>the bank if the buyer has a home loan?<br>"
           ],
           [
            null
           ]
          ],
          [
           [
            "bt-11"
           ],
           [
            "If the Boomerang Nebula is 5,000 light years away, how<br>can scientists know that it's the coldest place in the<br>universe at -272 degrees Celsius?<br>"
           ],
           [
            null
           ]
          ],
          [
           [
            "bt-4"
           ],
           [
            "Why does acne appear on the face, upper back and<br>chest, but nowhere else on the body (in most people)?<br>"
           ],
           [
            null
           ]
          ],
          [
           [
            "bt-2"
           ],
           [
            "How does plant seeds know to root downward and to<br>sprout upwards?<br>"
           ],
           [
            null
           ]
          ],
          [
           [
            "bt-10"
           ],
           [
            "Would placing 2 identical lumps of radioactive material together increase<br>the radius of danger, or just make the radius more<br>dangerous?<br>"
           ],
           [
            null
           ]
          ],
          [
           [
            "bt-0"
           ],
           [
            "Why is the seemingly more complicated part of playing the<br>guitar done with the non-dominant hand?<br>"
           ],
           [
            null
           ]
          ],
          [
           [
            "bt-7"
           ],
           [
            "why haven’t USB cables replaced every other cable, like Ethernet<br>for example? They can transmit data, audio, etc. so why<br>not make USB ports the standard everywhere?<br>"
           ],
           [
            null
           ]
          ],
          [
           [
            "bt-2"
           ],
           [
            "Fish excluded from meat?<br>"
           ],
           [
            null
           ]
          ],
          [
           [
            "bt-3"
           ],
           [
            "How come we don't use triangular head screwdrivers? Isn't it<br>a stronger shape than a cross or square?<br>"
           ],
           [
            null
           ]
          ],
          [
           [
            "bt-2"
           ],
           [
            "how thousands of bats can live together without getting confused<br>from other bats echolocation noises?<br>"
           ],
           [
            null
           ]
          ],
          [
           [
            "bt-6"
           ],
           [
            ")The body’s reaction to an injury like a break or<br>sprain is swelling, why is the first step of treatment<br>to reduce swelling ?<br>"
           ],
           [
            null
           ]
          ],
          [
           [
            "bt-0"
           ],
           [
            "WHY are the symbols for power on / off \"|\"<br>and \"◯\"?<br>"
           ],
           [
            null
           ]
          ],
          [
           [
            "bt-4"
           ],
           [
            "If the body regenerates itself about every 7 to 10<br>years, why do scars and other skin „imperfections“ still remain<br>the same ?<br>"
           ],
           [
            null
           ]
          ],
          [
           [
            "bt-7"
           ],
           [
            "Can dust collect on items in space like they do<br>on Earth? Would an old abandoned section of a space<br>station have soot covered walls?<br>"
           ],
           [
            null
           ]
          ],
          [
           [
            "bt-11"
           ],
           [
            "How do we know that Jupiter is made of gas?<br>"
           ],
           [
            null
           ]
          ],
          [
           [
            "bt-6"
           ],
           [
            "If blood continuously flows throughout the body, what happens to<br>the blood that follows down a vein where a limb<br>was amputated?<br>"
           ],
           [
            null
           ]
          ],
          [
           [
            "bt-0"
           ],
           [
            "Why do some lamps and other fixtures require two turns<br>to turn on and off?<br>"
           ],
           [
            null
           ]
          ],
          [
           [
            "bt-1"
           ],
           [
            "why are eyes only blue, green or brown (With varying<br>shades), and not colours like red, purple, orange, etc?<br>"
           ],
           [
            null
           ]
          ],
          [
           [
            "bt-11"
           ],
           [
            "How do scientists determine how much CO2 was in the<br>atmosphere thousands of years ago, and to what level of<br>certainty are they able to perform these calculations?<br>"
           ],
           [
            null
           ]
          ],
          [
           [
            "bt-10"
           ],
           [
            "Why can't they make CPUs bigger if heat dissipation is<br>a problem?<br>"
           ],
           [
            null
           ]
          ],
          [
           [
            "bt-4"
           ],
           [
            "How does \"moisturizing\" soap moisturize if the point of soap<br>is to strip oil and dirt from you body?<br>"
           ],
           [
            null
           ]
          ],
          [
           [
            "bt-0"
           ],
           [
            "why is the lowest button hole on a dress shirt<br>horizontal, while all the others are vertical?<br>"
           ],
           [
            null
           ]
          ],
          [
           [
            "bt-3"
           ],
           [
            "Why are large truck brake failures common enough to require<br>the failure lanes on mountain roads?<br>"
           ],
           [
            null
           ]
          ],
          [
           [
            "bt-11"
           ],
           [
            "How/why is space between the sun and the earth so<br>cold, when we can feel heat coming from the sun?<br>"
           ],
           [
            null
           ]
          ],
          [
           [
            "bt-10"
           ],
           [
            "Why does a companies stock price matter to the company<br>itself? Why does it benefit them to have a higher<br>stock price?<br>"
           ],
           [
            null
           ]
          ],
          [
           [
            "bt-1"
           ],
           [
            "What exactly is the \"sand\" that forms around your eyes<br>after you wake up and how it is formed, biologically<br>speaking?<br>"
           ],
           [
            null
           ]
          ],
          [
           [
            "bt-9"
           ],
           [
            "How does a cell phone determine how much charge is<br>left? My understanding is that batteries output a constant voltage<br>until they are almost depleted, so what does the phone<br>use to measure remaining power?<br>"
           ],
           [
            null
           ]
          ],
          [
           [
            "bt-10"
           ],
           [
            "Why can’t we use huge lenses + sunlight to heat<br>water to turn turbines and generators to produce electricity?<br>"
           ],
           [
            null
           ]
          ],
          [
           [
            "bt-7"
           ],
           [
            "How can restaurants leave ketchup and mustard out all day<br>but the bottles you buy in the store say to<br>refrigerate after opening?<br>"
           ],
           [
            null
           ]
          ],
          [
           [
            "bt-7"
           ],
           [
            "How do modern dishwashers take way longer to run and<br>clean better yet use less energy and water?<br>"
           ],
           [
            null
           ]
          ],
          [
           [
            "bt-2"
           ],
           [
            "Why do birds have \"robotic\" movement?<br>"
           ],
           [
            null
           ]
          ],
          [
           [
            "bt-6"
           ],
           [
            "How can a blood oximeter read your level of oxygen<br>in the blood without requesting a drop of blood?<br>"
           ],
           [
            null
           ]
          ],
          [
           [
            "bt-9"
           ],
           [
            "How do calls to emergency numbers like 911 get placed<br>even without a sim card?<br>"
           ],
           [
            null
           ]
          ],
          [
           [
            "bt-5"
           ],
           [
            "Why is deflation worse than inflation?<br>"
           ],
           [
            null
           ]
          ],
          [
           [
            "bt-3"
           ],
           [
            "Why do big commercial airplanes have wings on the bottom<br>and big (US) military airplanes have their wings on top?<br>"
           ],
           [
            null
           ]
          ],
          [
           [
            "bt-2"
           ],
           [
            "How do table saws with an auto stop tell the<br>difference between wood and a finger?<br>"
           ],
           [
            null
           ]
          ],
          [
           [
            "bt-5"
           ],
           [
            "why are gases in the earth's atmosphere not stacked based<br>on their density?<br>"
           ],
           [
            null
           ]
          ],
          [
           [
            "bt-8"
           ],
           [
            "Why are countries in the south of the southern hemisphere<br>not as cold as the countries in the north of<br>the northern hemisphere?<br>"
           ],
           [
            null
           ]
          ],
          [
           [
            "bt-7"
           ],
           [
            "How do “instant” versions of foods (instant oatmeal, coffee, rice,<br>etc.) exist? Why are they not the standard since they’re<br>so efficient?<br>"
           ],
           [
            null
           ]
          ],
          [
           [
            "bt-1"
           ],
           [
            "why does inactivity cause fatigue?<br>"
           ],
           [
            null
           ]
          ],
          [
           [
            "bt-1"
           ],
           [
            "Why does our brains treat boredom as an undesirable state?<br>"
           ],
           [
            null
           ]
          ],
          [
           [
            "bt-9"
           ],
           [
            "I always hear that it's bad for lithium batteries to<br>charge over 90% or over 90% so why is there<br>no setting to stop charging after a certain threshold on<br>my phone, kindle, pc or e-skate?<br>"
           ],
           [
            null
           ]
          ],
          [
           [
            "bt-7"
           ],
           [
            "why does water get louder as it gets hotter and<br>then quieter once it's actually boiling?<br>"
           ],
           [
            null
           ]
          ],
          [
           [
            "bt-6"
           ],
           [
            "If boiling water kills germs, aren't their dead bodies still<br>in the water or do they evapourate or something<br>"
           ],
           [
            null
           ]
          ],
          [
           [
            "bt-8"
           ],
           [
            "how the ITER \"artificial sun\" it's going to be refrigerated<br>"
           ],
           [
            null
           ]
          ],
          [
           [
            "bt-11"
           ],
           [
            "Where does the extra space come from as the universe<br>expands? and if it's just stretching, does that mean it<br>somehow is getting thinned out?<br>"
           ],
           [
            null
           ]
          ],
          [
           [
            "bt-4"
           ],
           [
            "if mathematically derivatives are the opposite of integrals, conceptually how<br>is the area under a curve opposite to the slope<br>of a tangent line?<br>"
           ],
           [
            null
           ]
          ],
          [
           [
            "bt-8"
           ],
           [
            "how does it raining on partially built houses not ruin<br>those houses<br>"
           ],
           [
            null
           ]
          ],
          [
           [
            "bt-4"
           ],
           [
            "Why do our armpits produce a different stench than our<br>feet?<br>"
           ],
           [
            null
           ]
          ],
          [
           [
            "bt-5"
           ],
           [
            "What is the US dollar backed by?<br>"
           ],
           [
            null
           ]
          ],
          [
           [
            "bt-2"
           ],
           [
            "Why can you grow plants hydroponically but if plants in<br>soil get too much water they get root rot and<br>die?<br>"
           ],
           [
            null
           ]
          ],
          [
           [
            "bt-11"
           ],
           [
            "How can geologists really know that there is a miniscule<br>chance that the Yellowstone super volcano will erupt in the<br>next few thousand years?<br>"
           ],
           [
            null
           ]
          ],
          [
           [
            "bt-7"
           ],
           [
            "do tanks actually have explosives attached to the outside of<br>their armour? Wouldnt this help in damaging the tanks rather<br>than saving them?<br>"
           ],
           [
            null
           ]
          ],
          [
           [
            "bt-10"
           ],
           [
            "How does the presence of steel bars in concrete slabs<br>used in construction help in strengthening buildings constructed using them<br>?<br>"
           ],
           [
            null
           ]
          ],
          [
           [
            "bt-0"
           ],
           [
            "Why are planes not getting faster?<br>"
           ],
           [
            null
           ]
          ],
          [
           [
            "bt-8"
           ],
           [
            "How is it possible that deserts are super hot at<br>day time and below freezing point at night time?<br>"
           ],
           [
            null
           ]
          ]
         ],
         "hovertemplate": "<br>%{customdata[1]}<br>",
         "marker": {
          "opacity": 0.5
         },
         "mode": "markers",
         "type": "scatter",
         "x": [
          2.637284994125366,
          4.795155048370361,
          3.351938009262085,
          2.2872941493988037,
          3.1216859817504883,
          3.2489774227142334,
          3.0193419456481934,
          3.010343074798584,
          0.005292218644171953,
          0.931714653968811,
          4.345388412475586,
          2.5627455711364746,
          4.881083011627197,
          4.7710676193237305,
          2.8682072162628174,
          1.4422365427017212,
          3.624049663543701,
          3.8405280113220215,
          0.8579026460647583,
          0.28250962495803833,
          3.822554349899292,
          3.9161572456359863,
          1.7512857913970947,
          1.2299244403839111,
          2.5540409088134766,
          0.7123173475265503,
          4.362724304199219,
          2.183419942855835,
          3.031449317932129,
          4.483455181121826,
          4.450128078460693,
          1.026571273803711,
          4.909087181091309,
          2.0437281131744385,
          1.781800389289856,
          1.4673713445663452,
          2.211103677749634,
          4.051448345184326,
          4.057469844818115,
          2.687037706375122,
          1.725351333618164,
          2.383553981781006,
          1.1112723350524902,
          0.1922440528869629,
          0.9174049496650696,
          1.3270615339279175,
          4.142514705657959,
          0.8423786163330078,
          1.8112549781799316,
          3.342942714691162,
          5.00501823425293,
          3.6267693042755127,
          1.5647671222686768,
          2.87396240234375,
          3.1061301231384277,
          1.7233422994613647,
          1.4686412811279297,
          1.399566650390625,
          3.745434522628784,
          2.877202272415161,
          0.0326584167778492,
          5.161256790161133,
          5.2439165115356445,
          1.251334309577942,
          0.07009480148553848,
          1.1438040733337402,
          -0.15215007960796356,
          4.040710926055908,
          0.46757450699806213,
          1.7770670652389526,
          1.201305866241455,
          1.4107486009597778,
          3.712101936340332,
          0.14885979890823364,
          5.001626968383789,
          1.2750614881515503,
          0.026697581633925438,
          3.138713836669922,
          2.9064390659332275,
          1.351971983909607,
          3.794687271118164,
          0.8821787238121033,
          2.385808229446411,
          0.8999459147453308,
          3.5243711471557617,
          2.7398781776428223,
          3.174862861633301,
          5.018161773681641,
          3.0418448448181152,
          1.8572336435317993,
          4.2175092697143555,
          1.8396470546722412,
          4.404102325439453,
          5.026291847229004,
          0.45771750807762146,
          2.055527687072754,
          5.124263286590576,
          2.4525363445281982,
          0.15193265676498413,
          1.1264317035675049,
          2.7851004600524902,
          2.4247260093688965,
          0.20523439347743988,
          2.8341076374053955,
          4.251655101776123,
          0.7837209701538086,
          5.143691539764404,
          3.258247137069702,
          1.9411031007766724,
          4.031132221221924,
          0.7380808591842651,
          3.7024693489074707,
          2.4615559577941895,
          0.6637213826179504,
          5.068166255950928,
          0.7512925863265991,
          -0.1189279854297638,
          1.836527705192566,
          1.191368818283081,
          5.236676216125488,
          3.8086845874786377,
          0.6561118960380554,
          2.599771738052368,
          2.462789535522461,
          2.6339519023895264,
          3.792797088623047,
          3.5919675827026367,
          0.6720057129859924,
          0.7061070203781128,
          2.6116273403167725,
          1.4604212045669556,
          1.6801410913467407,
          2.625333070755005,
          4.479835510253906,
          4.3746337890625,
          3.7874536514282227,
          2.877272367477417,
          3.4469258785247803,
          1.9530906677246094,
          2.0610337257385254,
          4.742810249328613,
          1.2490984201431274,
          4.824325084686279,
          0.6762973666191101,
          2.195039987564087,
          2.3455889225006104,
          2.1195287704467773,
          0.44006988406181335,
          1.0587371587753296,
          1.7747853994369507
         ],
         "y": [
          11.194474220275879,
          8.114680290222168,
          9.912147521972656,
          10.704025268554688,
          9.071407318115234,
          7.757616996765137,
          10.04306411743164,
          10.611226081848145,
          8.555353164672852,
          10.053260803222656,
          8.136879920959473,
          8.405172348022461,
          9.537976264953613,
          9.056975364685059,
          8.698017120361328,
          9.7435884475708,
          10.956262588500977,
          9.882241249084473,
          10.263043403625488,
          8.970345497131348,
          7.404807090759277,
          10.210780143737793,
          9.270668029785156,
          8.036739349365234,
          8.905625343322754,
          10.816174507141113,
          8.813675880432129,
          9.499139785766602,
          8.707727432250977,
          8.760920524597168,
          8.771462440490723,
          7.172150611877441,
          9.212154388427734,
          7.6457672119140625,
          8.09206485748291,
          8.936912536621094,
          9.865143775939941,
          8.972339630126953,
          7.993292331695557,
          9.27888011932373,
          7.495301246643066,
          11.019319534301758,
          10.90137004852295,
          8.241342544555664,
          8.483758926391602,
          7.11000919342041,
          9.531817436218262,
          8.929956436157227,
          7.492836952209473,
          8.895983695983887,
          9.708115577697754,
          7.482349395751953,
          7.179656028747559,
          10.028006553649902,
          7.568663120269775,
          8.447925567626953,
          7.888269901275635,
          10.100068092346191,
          7.645008563995361,
          7.722207069396973,
          8.40875244140625,
          8.499903678894043,
          9.299221992492676,
          8.469873428344727,
          9.404108047485352,
          9.825886726379395,
          8.386165618896484,
          7.620399475097656,
          8.338143348693848,
          9.341559410095215,
          8.9174165725708,
          7.20277738571167,
          10.8091402053833,
          9.244902610778809,
          9.427738189697266,
          8.274486541748047,
          8.112488746643066,
          9.28147029876709,
          11.330933570861816,
          10.12553596496582,
          10.705879211425781,
          9.533889770507812,
          7.7355756759643555,
          10.63292121887207,
          7.981812953948975,
          7.955009460449219,
          10.960515022277832,
          8.771197319030762,
          9.410578727722168,
          11.310660362243652,
          8.139566421508789,
          9.38701057434082,
          8.078407287597656,
          9.492960929870605,
          7.799747467041016,
          11.144634246826172,
          8.402758598327637,
          9.85477352142334,
          9.14042854309082,
          7.668023586273193,
          7.585784912109375,
          9.131291389465332,
          7.926775932312012,
          9.926471710205078,
          8.61937141418457,
          7.555732727050781,
          8.44485855102539,
          8.37326717376709,
          11.27768325805664,
          8.465388298034668,
          7.479864120483398,
          9.343917846679688,
          11.33377456665039,
          9.488790512084961,
          8.223379135131836,
          7.605796813964844,
          8.610725402832031,
          10.786548614501953,
          8.795572280883789,
          9.29045295715332,
          10.771331787109375,
          9.797163009643555,
          8.531784057617188,
          8.110692977905273,
          9.873371124267578,
          8.611909866333008,
          10.201464653015137,
          10.658317565917969,
          8.066963195800781,
          9.783256530761719,
          10.785996437072754,
          10.45631217956543,
          8.021308898925781,
          9.328609466552734,
          9.423490524291992,
          10.589895248413086,
          8.4215726852417,
          8.381355285644531,
          10.125289916992188,
          10.793828010559082,
          7.884123802185059,
          9.678786277770996,
          8.258076667785645,
          10.396254539489746,
          9.603414535522461,
          11.39017105102539,
          8.410099029541016,
          8.920384407043457,
          8.174386978149414,
          10.344847679138184
         ]
        },
        {
         "hoverinfo": "none",
         "line": {
          "color": "grey",
          "dash": "dot"
         },
         "mode": "lines",
         "name": "Convex Hull",
         "type": "scatter",
         "x": [
          0.7512925863265991,
          0.7373479616682985,
          0.745511792630453,
          0.7795541612277948,
          0.834156842151736,
          0.903586047175068,
          0.982107988070581,
          1.0640761202047884,
          1.146330381482956,
          1.2284972009599566,
          1.310350497189336,
          1.3916709737351056,
          1.4722902731677798,
          1.55206318332506,
          1.630718997216577,
          1.7071683177872312,
          1.7799937150457108,
          1.8477768839385964,
          1.9090995194124714,
          1.9625433164139177,
          2.0066899698895178,
          2.040121174785853,
          2.0616112570418443,
          2.0710936094316783,
          2.0689330754481174,
          2.055495225080006,
          2.0311456283161866,
          1.9962498551455021,
          1.9511734755567982,
          1.896282059538917,
          1.8319411770807021,
          1.7585163981709975,
          1.6764838458338727,
          1.5882757641340288,
          1.4980013168365216,
          1.4098239649778619,
          1.3279071695945595,
          1.256414391723124,
          1.1983748324520143,
          1.1510625168173445,
          1.1099305480369805,
          1.0704313137675452,
          1.028398693196647,
          0.9834370414143071,
          0.9373009716189997,
          0.8917701476358287,
          0.848624233289899,
          0.8096428924063144,
          0.7766057888101799,
          0.751292586326599
         ],
         "y": [
          7.605796813964843,
          7.522103371200824,
          7.440940009055162,
          7.366820552650734,
          7.3005801486862545,
          7.242885736262678,
          7.19440425448095,
          7.155809521360758,
          7.127971407268855,
          7.111979489777432,
          7.1089349756022315,
          7.119603612776028,
          7.1422326665491305,
          7.173925073671832,
          7.212060105629717,
          7.255855498023464,
          7.3052656227069415,
          7.360246816588117,
          7.420755416574968,
          7.486747759575464,
          7.558180182497582,
          7.635009022249291,
          7.71701261703289,
          7.802898281151743,
          7.890974651268935,
          7.9795496927362555,
          8.06693137090548,
          8.151427651128401,
          8.231346498756803,
          8.304995879142467,
          8.370683757637181,
          8.426718099592732,
          8.471414937123587,
          8.503233035324751,
          8.520753519688135,
          8.522561477633984,
          8.507241996582563,
          8.473380163954111,
          8.42050414632446,
          8.352927244912477,
          8.276476764330756,
          8.196980604144485,
          8.119836970211178,
          8.046197185722326,
          7.974790626580901,
          7.904318452869181,
          7.833481824669438,
          7.760981902063952,
          7.685519845134996,
          7.605796813964843
         ]
        },
        {
         "hoverinfo": "none",
         "line": {
          "color": "grey",
          "dash": "dot"
         },
         "mode": "lines",
         "name": "Convex Hull",
         "type": "scatter",
         "x": [
          5.243916511535645,
          5.270101685135811,
          5.261745219516549,
          5.2259877055345525,
          5.169969734046507,
          5.100831895909111,
          5.025714781979049,
          4.951256191670459,
          4.8793455748486085,
          4.809260206700213,
          4.740250248979161,
          4.671565863439335,
          4.602457211834625,
          4.532174455918916,
          4.459967757446095,
          4.385087278170048,
          4.306783179844662,
          4.224305624223824,
          4.136905033963987,
          4.04511975560702,
          3.953763798478929,
          3.868537288534792,
          3.7951403517296876,
          3.739273114018694,
          3.7066357013568876,
          3.7022338272748776,
          3.724453383514916,
          3.7680112231382092,
          3.8275851738393665,
          3.8978530633129926,
          3.9734927192536964,
          4.049181969356085,
          4.1206637296673465,
          4.188352316279855,
          4.253942381704865,
          4.319128612243784,
          4.385590832026606,
          4.454161092966648,
          4.524382071358907,
          4.595688363690406,
          4.667514566448161,
          4.739295276119198,
          4.810465089190532,
          4.880458602149187,
          4.94871041148218,
          5.014655113676533,
          5.077727305219264,
          5.137361582597395,
          5.192992542297944,
          5.243916511535645
         ],
         "y": [
          9.299221992492674,
          9.36299050513581,
          9.43374823260394,
          9.506962718265031,
          9.578101505487046,
          9.642632137637962,
          9.696022158085734,
          9.734145103008538,
          9.756708694320494,
          9.765529926386954,
          9.762447687062023,
          9.749300864199808,
          9.727928345654405,
          9.700169019279919,
          9.66786177293045,
          9.632845494460106,
          9.596959071722985,
          9.562041392573189,
          9.529931188195572,
          9.501693805013938,
          9.475827098874376,
          9.450296821897593,
          9.4230687262043,
          9.3921085639152,
          9.355382087151005,
          9.311113746392788,
          9.259994159174854,
          9.204080817035287,
          9.14544575013216,
          9.08616098862354,
          9.028298562667501,
          8.973930502422116,
          8.925003526087087,
          8.882914742727282,
          8.848910624642429,
          8.824237640156708,
          8.810128008166178,
          8.807001127627288,
          8.814040180749114,
          8.8303247258884,
          8.854934321401881,
          8.886948525646309,
          8.925446896978418,
          8.969508993754953,
          9.018214374332658,
          9.070642597068273,
          9.125873220318539,
          9.182985802440198,
          9.241059901789992,
          9.299221992492676
         ]
        },
        {
         "hoverinfo": "none",
         "line": {
          "color": "grey",
          "dash": "dot"
         },
         "mode": "lines",
         "name": "Convex Hull",
         "type": "scatter",
         "x": [
          0.9174049496650695,
          0.9936854438488784,
          1.0707615677597984,
          1.1466731562398758,
          1.2194600441311574,
          1.2871620662756889,
          1.3478190575155176,
          1.3994708526926896,
          1.4401572866492516,
          1.4679182029763091,
          1.4813167551318847,
          1.480850991945688,
          1.4674660526993129,
          1.4421070766743518,
          1.4057192031523986,
          1.3592475714150474,
          1.3036373207438914,
          1.239833590420524,
          1.1687815197265385,
          1.091426247943529,
          1.0087129143530889,
          0.9215866582368114,
          0.8309926188762905,
          0.7378759355531197,
          0.643182385866931,
          0.5482276946346217,
          0.4553178783738517,
          0.36692290417322265,
          0.2855127391213361,
          0.21355735030679326,
          0.15352670481819636,
          0.10789076974414626,
          0.07911951217324512,
          0.06966485014225295,
          0.07979701181972926,
          0.10555026625835394,
          0.14247236627790055,
          0.18634148073874288,
          0.23479215249065208,
          0.28635514495741354,
          0.33988852382010004,
          0.39528417902846846,
          0.4526413904202284,
          0.5120594378330883,
          0.5736376011047577,
          0.6374751600729461,
          0.703671394575362,
          0.7723255844497154,
          0.8435370095337147,
          0.9174049496650696
         ],
         "y": [
          8.4837589263916,
          8.491068200374732,
          8.51291681604352,
          8.547710201568501,
          8.593853785120213,
          8.649752994869194,
          8.71381325898598,
          8.784440005641104,
          8.860038663005112,
          8.939014661125066,
          9.019885671645513,
          9.101584370324602,
          9.183139326672357,
          9.263579110198801,
          9.341932290413965,
          9.417227436827872,
          9.488493118950547,
          9.554757906292021,
          9.615050368362313,
          9.668399074671452,
          9.71383259472946,
          9.750379498046374,
          9.77706835413221,
          9.792927732496999,
          9.796987002626665,
          9.788739172572415,
          9.76891833938924,
          9.738464072166908,
          9.698315939995185,
          9.64941351196383,
          9.592696357162616,
          9.5291040446813,
          9.459576143609649,
          9.385059199910827,
          9.30734309326712,
          9.229855116270535,
          9.156210624697529,
          9.089401736603042,
          9.027399381879746,
          8.965751056561839,
          8.901314723594808,
          8.835212675447728,
          8.769422648642287,
          8.70592237970017,
          8.64668960514306,
          8.593702061492642,
          8.5489374852706,
          8.514373612998625,
          8.491988181198398,
          8.483758926391602
         ]
        },
        {
         "hoverinfo": "none",
         "line": {
          "color": "grey",
          "dash": "dot"
         },
         "mode": "lines",
         "name": "Convex Hull",
         "type": "scatter",
         "x": [
          2.906439065933228,
          2.879031317008174,
          2.840148627105592,
          2.791371401877142,
          2.734280046974482,
          2.6704549680492704,
          2.6014765707531664,
          2.5289252607378283,
          2.454381443654915,
          2.379425525156085,
          2.3056123441321934,
          2.2340158831796653,
          2.1652822060072814,
          2.1000424422148285,
          2.0389277214020938,
          1.982569173168864,
          1.9315979271149255,
          1.8866451128400659,
          1.84834080890078,
          1.8171870120745661,
          1.7934364767309445,
          1.7773132525778628,
          1.7690413893232693,
          1.7688449366751127,
          1.7769479443413414,
          1.7935744620299028,
          1.8189485394487461,
          1.8532730977723921,
          1.8961457883755197,
          1.9464841968198567,
          2.0031697572399136,
          2.0650839037702013,
          2.131108070545228,
          2.200123691699507,
          2.2710122013675464,
          2.342670467001664,
          2.414120108591132,
          2.484443136248794,
          2.552721955151774,
          2.6180389704771976,
          2.6794765874021893,
          2.7361172111038727,
          2.787043246759375,
          2.8313370995458174,
          2.8680811746403263,
          2.8963578772200265,
          2.9152496124620417,
          2.9238387855434973,
          2.921207801641518,
          2.906439065933228
         ],
         "y": [
          11.330933570861816,
          11.353334571788174,
          11.36948443901026,
          11.380362753222155,
          11.386949095117952,
          11.390223045391728,
          11.39116418473759,
          11.390752093849615,
          11.389966353421896,
          11.389786544148517,
          11.3911205779675,
          11.393528430223126,
          11.395370533829883,
          11.394965458400796,
          11.390631773548899,
          11.380688048887231,
          11.36345285402882,
          11.3372447585867,
          11.300393188867497,
          11.252550584835344,
          11.195943922132834,
          11.133096679617848,
          11.066532336148269,
          10.998774370581978,
          10.932346261776862,
          10.869771488590796,
          10.813573529881666,
          10.76623093106795,
          10.72893502783491,
          10.701430879622269,
          10.683386663677716,
          10.674470557248947,
          10.674350737583643,
          10.6826953819295,
          10.69917266753421,
          10.723398505222345,
          10.754566319288886,
          10.791665017035777,
          10.833682167841578,
          10.879605341084854,
          10.928422106144163,
          10.979120032398061,
          11.030686689225117,
          11.082109646003879,
          11.13237647211292,
          11.180474736930792,
          11.225392009836057,
          11.266115860207277,
          11.301633857423008,
          11.330933570861816
         ]
        },
        {
         "hoverinfo": "none",
         "line": {
          "color": "grey",
          "dash": "dot"
         },
         "mode": "lines",
         "name": "Convex Hull",
         "type": "scatter",
         "x": [
          3.138713836669922,
          3.1409285207891324,
          3.1457173468712005,
          3.1514766550536946,
          3.1566027854741865,
          3.1594920782702425,
          3.158540873579432,
          3.1521455115393238,
          3.1387023322874867,
          3.1166076759614896,
          3.084257882698901,
          3.0400492926372893,
          2.9826306765309822,
          2.91425844798457,
          2.8398277408425634,
          2.762721135963728,
          2.6845359922712317,
          2.606773599245431,
          2.5309352463666825,
          2.4585222231153394,
          2.3910358189717584,
          2.329977323416296,
          2.2768480259293056,
          2.233149215991144,
          2.2003593240048183,
          2.178880487322337,
          2.1675972774618586,
          2.1652798733270884,
          2.170698453821736,
          2.1826231978495065,
          2.2001015020413313,
          2.2234828083197877,
          2.2534984915602245,
          2.29087997653277,
          2.336358688007557,
          2.390666050754715,
          2.454481958875395,
          2.526948216480634,
          2.6054424563655365,
          2.687245297643225,
          2.7696373594268238,
          2.849899260829458,
          2.9253116209642522,
          2.9931550589443296,
          3.0507101938828143,
          3.09525764489283,
          3.1240804352006233,
          3.1367264820622074,
          3.139215072912552,
          3.138713836669921
         ],
         "y": [
          9.28147029876709,
          9.364987126668254,
          9.452188368911642,
          9.540872876168264,
          9.628839499109121,
          9.71388708840521,
          9.793814494727533,
          9.866420568747095,
          9.92950416113489,
          9.980864122561925,
          10.018299303699198,
          10.039608555217711,
          10.043092205207543,
          10.034217507263898,
          10.023607068862201,
          10.01635777899281,
          10.011166514294148,
          10.006385742898104,
          10.000367932936573,
          9.991465552541447,
          9.978031069844622,
          9.958416952977991,
          9.93097567007344,
          9.894059689262873,
          9.846060929318847,
          9.787228796512961,
          9.72043174177448,
          9.648735637033514,
          9.575206354220182,
          9.502909765264592,
          9.434464801535059,
          9.370391189345543,
          9.310592888730623,
          9.254973779282647,
          9.203437740593985,
          9.155888652256998,
          9.112246786759902,
          9.072921712568014,
          9.038884214937166,
          9.011135941039344,
          8.990678538046533,
          8.978513653130731,
          8.975642933463917,
          8.983068026218081,
          9.001790578565213,
          9.0328122376773,
          9.07713375868226,
          9.13491550975939,
          9.203916662843648,
          9.28147029876709
         ]
        },
        {
         "hoverinfo": "none",
         "line": {
          "color": "grey",
          "dash": "dot"
         },
         "mode": "lines",
         "name": "Convex Hull",
         "type": "scatter",
         "x": [
          0.4577175080776214,
          0.5073560477751102,
          0.5558816223827053,
          0.601118251255115,
          0.6408899537470462,
          0.6730207492132069,
          0.6953346570083041,
          0.7056556964870457,
          0.7021247723115661,
          0.6856087301664523,
          0.6583644795626846,
          0.6226600211431345,
          0.5807633555506727,
          0.5349424834281709,
          0.4874654054185004,
          0.4405142385863009,
          0.39487817713204165,
          0.3502161569248726,
          0.3061544832535922,
          0.2623194614069986,
          0.2183373966738905,
          0.1738345943430661,
          0.12843735970332384,
          0.08177199804346197,
          0.03346481465227889,
          -0.01676858780483031,
          -0.06636042851345075,
          -0.10936090717704591,
          -0.14013936828384618,
          -0.15780818782423417,
          -0.1640354553166652,
          -0.16051401663175321,
          -0.14893565071305176,
          -0.1308233076049748,
          -0.10734815009882563,
          -0.07963737518052565,
          -0.04881817983599617,
          -0.01601776105115854,
          0.017636684188066055,
          0.0511326489004434,
          0.08452255943618746,
          0.11843679059935722,
          0.15351145212817566,
          0.19038265376086583,
          0.2296508804660153,
          0.2714118583097515,
          0.31538672942074464,
          0.3612877743710304,
          0.4088272737326441,
          0.4577175080776215
         ],
         "y": [
          7.799747467041014,
          7.811458391483221,
          7.835346827975246,
          7.869056685085103,
          7.9102318713808035,
          7.956516295430358,
          8.005553865801778,
          8.054988491063073,
          8.102620602681597,
          8.147597088341708,
          8.189751446357153,
          8.22892265341533,
          8.26494968620364,
          8.29767152140948,
          8.326927135720256,
          8.352587694091088,
          8.37504641441193,
          8.39512012358523,
          8.413637878113997,
          8.431428734501237,
          8.449321749249966,
          8.46814597886319,
          8.488730479843914,
          8.511904308695149,
          8.538496521919907,
          8.569133567523668,
          8.597970532857525,
          8.6114889776507,
          8.597258422770471,
          8.556958451155124,
          8.49987164743089,
          8.435354243988188,
          8.37274183368361,
          8.318104041244975,
          8.270705223092216,
          8.228959224151879,
          8.191279889350518,
          8.15608106361468,
          8.121776591870919,
          8.08690134256512,
          8.051113926181403,
          8.014682817647351,
          7.977882543524415,
          7.94098763037404,
          7.90435988640099,
          7.869597792690663,
          7.839217571045288,
          7.81575715431908,
          7.801754475366249,
          7.799747467041015
         ]
        },
        {
         "hoverinfo": "none",
         "line": {
          "color": "grey",
          "dash": "dot"
         },
         "mode": "lines",
         "name": "Convex Hull",
         "type": "scatter",
         "x": [
          4.4501280784606925,
          4.421715188415715,
          4.400897903583899,
          4.387247500229481,
          4.380335254616695,
          4.379732443009775,
          4.38501034167296,
          4.3957402268704815,
          4.411493374866576,
          4.431841061925479,
          4.456354564311426,
          4.484605158288651,
          4.516164120121391,
          4.55060272607388,
          4.587492252410352,
          4.626403975395045,
          4.666909171292194,
          4.708579116366033,
          4.75098488810643,
          4.793650733345724,
          4.83599401036197,
          4.877417234779989,
          4.917322922224599,
          4.955113588320622,
          4.990191748692878,
          5.021959918966186,
          5.049820614765366,
          5.073181385602663,
          5.092174846762208,
          5.108408930462027,
          5.123670834198341,
          5.139747755467378,
          5.156984843535232,
          5.165052243361186,
          5.1588287477861,
          5.140040247252195,
          5.11052300365789,
          5.072113278901601,
          5.0266473348817495,
          4.975901050547733,
          4.921239764318848,
          4.863857915065209,
          4.804949379672781,
          4.745708035027526,
          4.687327758015413,
          4.631002425522402,
          4.57792591443446,
          4.5292921016375525,
          4.486294864017642,
          4.450128078460692
         ],
         "y": [
          8.77146244049072,
          8.727812936439642,
          8.677237651917618,
          8.620911419240281,
          8.560009070723252,
          8.49570543868216,
          8.429175355432637,
          8.361593653290308,
          8.294135164570802,
          8.22797472158975,
          8.164287156662771,
          8.104247302105502,
          8.049029990233564,
          7.99981005336259,
          7.957762323808207,
          7.924061633886041,
          7.899882815911721,
          7.886400702200874,
          7.884786822068081,
          7.895434527471977,
          7.916961020794511,
          7.947736866483005,
          7.986132628984781,
          8.03051887274716,
          8.079266162217467,
          8.13074506184302,
          8.183326136071143,
          8.235384609809472,
          8.285966986436916,
          8.335485643346082,
          8.384518924834321,
          8.433645175198983,
          8.483402231456745,
          8.533940544467495,
          8.58455882254702,
          8.634113304520035,
          8.6814531509274,
          8.725427522309973,
          8.764885579208617,
          8.798765266989378,
          8.826608174427399,
          8.84820717458991,
          8.863355966864567,
          8.871848250639031,
          8.873477725300962,
          8.86803809023802,
          8.855323044837863,
          8.835126288488155,
          8.807241520576557,
          8.771462440490719
         ]
        },
        {
         "hoverinfo": "none",
         "line": {
          "color": "grey",
          "dash": "dot"
         },
         "mode": "lines",
         "name": "Convex Hull",
         "type": "scatter",
         "x": [
          0.9317146539688113,
          0.9787278220957211,
          1.0275702603045256,
          1.0774933301561949,
          1.1277483932117012,
          1.1775868110320156,
          1.2262599451781073,
          1.2730191572109486,
          1.3171158086915098,
          1.3578012611807622,
          1.3943268762396765,
          1.4259440154292238,
          1.4519040403103753,
          1.4714583124441012,
          1.4838581933913735,
          1.488355044713162,
          1.4842002279704378,
          1.4706451047241726,
          1.4469896221757312,
          1.4135846284013602,
          1.3717961683943,
          1.3230317293220462,
          1.2686987983520925,
          1.2102048626519344,
          1.148957409389066,
          1.0863634435032792,
          1.0238108644171298,
          0.9626625431528653,
          0.9042796567850029,
          0.8500233823880612,
          0.8012548970365578,
          0.759335377805011,
          0.7256260017679391,
          0.7013991874581997,
          0.6859023915203971,
          0.6763672246859105,
          0.6699647523702358,
          0.6652876544122923,
          0.6630438021288402,
          0.6641130748611311,
          0.6693753519504162,
          0.6797060899803838,
          0.6955624549131422,
          0.7166455386638491,
          0.7425769397615009,
          0.7729782567350943,
          0.8074710881136253,
          0.8456770324260914,
          0.8872176882014879,
          0.9317146539688113
         ],
         "y": [
          10.053260803222654,
          10.049820183831878,
          10.05779672437883,
          10.076044291397668,
          10.103416751422557,
          10.138767970987656,
          10.180951816627113,
          10.228822154875099,
          10.281232852265763,
          10.337037775333272,
          10.39509079061178,
          10.454245764635449,
          10.513356563938437,
          10.571277055054903,
          10.626861104519007,
          10.678962578864901,
          10.72643534462675,
          10.768133268338715,
          10.802957133156985,
          10.830822522469626,
          10.852625342444352,
          10.869301517797757,
          10.881786973246431,
          10.891017633506975,
          10.897929423295983,
          10.903435530477072,
          10.907548325036409,
          10.909100097396351,
          10.906843268987583,
          10.899530261240786,
          10.885913495586632,
          10.864745393455804,
          10.834778376278981,
          10.794876205061623,
          10.746442772624983,
          10.69341066843869,
          10.639787314400342,
          10.587736716316622,
          10.53668009830782,
          10.48581564064009,
          10.43434152357958,
          10.381464927230754,
          10.327244208347874,
          10.273276253456313,
          10.221319709614964,
          10.17313322388272,
          10.130475443318472,
          10.095105014981119,
          10.068780585929549,
          10.053260803222656
         ]
        },
        {
         "hoverinfo": "none",
         "line": {
          "color": "grey",
          "dash": "dot"
         },
         "mode": "lines",
         "name": "Convex Hull",
         "type": "scatter",
         "x": [
          4.404102325439453,
          4.418427142783727,
          4.42237446703651,
          4.4163355341611075,
          4.400701580120825,
          4.375863840878968,
          4.342213552398842,
          4.300141950643757,
          4.250040274998831,
          4.192438567460531,
          4.128374378014589,
          4.059001216596351,
          3.9854725931411625,
          3.908942017584368,
          3.8305629998613155,
          3.7515471897760007,
          3.6743137438257647,
          3.6024213788167,
          3.5394733478563696,
          3.489072904052337,
          3.4548233005121674,
          3.4399558638158645,
          3.442704465483171,
          3.4577270417472064,
          3.4796039280077213,
          3.5029154596644636,
          3.5222419721171825,
          3.5331741770786564,
          3.537551252832006,
          3.5395982785001725,
          3.5435450889937368,
          3.553621519223285,
          3.5740574040993978,
          3.60908257853266,
          3.6623139324197864,
          3.7290919203428095,
          3.798814602927557,
          3.861377110640306,
          3.914710988781081,
          3.962310584554748,
          4.00778152331283,
          4.054707325621528,
          4.104827341390987,
          4.156676592465478,
          4.2084696553650245,
          4.258421106609653,
          4.304745522719384,
          4.345657480214246,
          4.379371555614261,
          4.404102325439454
         ],
         "y": [
          8.078407287597656,
          8.149684142250448,
          8.225860261749954,
          8.303983170910524,
          8.381100394546515,
          8.45425945747228,
          8.520507884502166,
          8.576893200450536,
          8.620462951795181,
          8.64914344069888,
          8.664073989068479,
          8.667128058204655,
          8.66017910940809,
          8.64510060397947,
          8.623766003219473,
          8.597991532077735,
          8.568404673964158,
          8.534511061218549,
          8.495772481991791,
          8.45165072443477,
          8.401607576698378,
          8.345168696186079,
          8.282717930550865,
          8.21525320656379,
          8.143785777034413,
          8.069326894772287,
          7.992887812586975,
          7.915507508245799,
          7.838396418871962,
          7.7628304512549455,
          7.690085642684135,
          7.6214380304489175,
          7.558163651838677,
          7.501538544142802,
          7.4530983184244635,
          7.417883542145062,
          7.403451304786133,
          7.416701531447884,
          7.455406637820396,
          7.511020982626343,
          7.574872538338855,
          7.638331974728715,
          7.696332136105363,
          7.749995302561856,
          7.8010627219485515,
          7.851275642115811,
          7.90237531091399,
          7.956102976193453,
          8.014199885804555,
          8.078407287597658
         ]
        },
        {
         "hoverinfo": "none",
         "line": {
          "color": "grey",
          "dash": "dot"
         },
         "mode": "lines",
         "name": "Convex Hull",
         "type": "scatter",
         "x": [
          2.1195287704467773,
          2.111228787211125,
          2.1160550032931758,
          2.133065116104251,
          2.161316823055669,
          2.1998678215587515,
          2.2477758090248194,
          2.3040984828651925,
          2.3678935404911914,
          2.438247652450338,
          2.514511080653738,
          2.5961748053249907,
          2.6827311273334633,
          2.7736723475485188,
          2.867904289314729,
          2.9609329823285866,
          3.047042341884425,
          3.1205334715159094,
          3.1790564785559488,
          3.2274437516164403,
          3.271303715047041,
          3.3129757065398646,
          3.351655915638394,
          3.386413339568684,
          3.4163169755567946,
          3.440435820828781,
          3.4578388726107003,
          3.46759512812861,
          3.4687735846085657,
          3.460443239276625,
          3.4416730893588445,
          3.4115321320812804,
          3.3690893646699913,
          3.3134786022139724,
          3.2453271349223805,
          3.16675720977719,
          3.0799561879539423,
          2.9871114306281785,
          2.890410298975437,
          2.79204015417126,
          2.6941883573911856,
          2.5990422698107567,
          2.508764796494594,
          2.424981081348516,
          2.348791897115899,
          2.281276238962231,
          2.2235131020529977,
          2.176581481553687,
          2.141560372629784,
          2.119528770446777
         ],
         "y": [
          8.410099029541016,
          8.320687381490036,
          8.228856854199817,
          8.136792444315432,
          8.046679148481942,
          7.960701963344412,
          7.881045885547913,
          7.80989591173751,
          7.749437038558268,
          7.701495389742876,
          7.664632140429303,
          7.635665472167302,
          7.611397208457281,
          7.588629172799644,
          7.565654170840842,
          7.549408189620002,
          7.54993415664202,
          7.577244718553066,
          7.635229796889758,
          7.714648502784566,
          7.804782140001094,
          7.899622092569533,
          7.9976883733454,
          8.097684253105198,
          8.198313002625431,
          8.298277892682602,
          8.396282194053214,
          8.491029177513767,
          8.581222113840766,
          8.66556427381071,
          8.742758928200105,
          8.811509347785453,
          8.870518803343257,
          8.918526132938146,
          8.955089684218992,
          8.980588127441187,
          8.995435862752778,
          9.00004729030179,
          8.994836810236256,
          8.980218822704218,
          8.956607727853704,
          8.924417925832751,
          8.884064537327784,
          8.835978526818295,
          8.780606308073954,
          8.718394936486522,
          8.649791467447754,
          8.57524295634941,
          8.495196458583242,
          8.410099029541016
         ]
        },
        {
         "hoverinfo": "none",
         "line": {
          "color": "grey",
          "dash": "dot"
         },
         "mode": "lines",
         "name": "Convex Hull",
         "type": "scatter",
         "x": [
          1.1438040733337402,
          1.1653936697109006,
          1.2035595708356668,
          1.2503768709819276,
          1.2992889796431908,
          1.3487966665914295,
          1.3985688564285823,
          1.4482744737565878,
          1.497582443177385,
          1.5461616892929113,
          1.593681136705106,
          1.6398097100159077,
          1.6842163338272542,
          1.7265699327410848,
          1.766544744722264,
          1.80403531303822,
          1.8392305831439855,
          1.8722292531736817,
          1.9026703997967007,
          1.9300739075217594,
          1.953959660648286,
          1.9738475434757055,
          1.9892574403034449,
          1.9997092354309318,
          2.0047228131575907,
          2.0038180577828513,
          1.996514853606138,
          1.982333084926878,
          1.9607926360444985,
          1.9315721177374003,
          1.8959347601317138,
          1.856054621467964,
          1.8141166345047757,
          1.7723056199546197,
          1.7321991396427463,
          1.693346614059484,
          1.6548930147200176,
          1.6162057954337228,
          1.57679980652833,
          1.5361925343093918,
          1.4939014650824585,
          1.4494440851530828,
          1.4023378808268152,
          1.3521003384092067,
          1.2991043230695638,
          1.2471696615819785,
          1.200984329899035,
          1.1652363039863027,
          1.1446135598093479,
          1.14380407333374
         ],
         "y": [
          9.825886726379395,
          9.779788728536985,
          9.730807515197732,
          9.677303815939286,
          9.618414581159673,
          9.556145711545563,
          9.49316578118479,
          9.432143364165187,
          9.375747034574585,
          9.326645366500811,
          9.2875069340317,
          9.261000311255087,
          9.249794072258798,
          9.25655679113067,
          9.283848696668366,
          9.329737751235228,
          9.386288734110984,
          9.446409646015157,
          9.50824376731053,
          9.571292026642872,
          9.635055355041867,
          9.699034683537185,
          9.7627309431585,
          9.825645064935493,
          9.887277979897837,
          9.947130619075212,
          10.004703913497288,
          10.059498794193749,
          10.111016192194263,
          10.158914808657952,
          10.204428416535487,
          10.249696129023445,
          10.29686786831599,
          10.348092925201666,
          10.402098548220145,
          10.446182947191643,
          10.466203962600849,
          10.459384740315043,
          10.43047804310687,
          10.384371290275277,
          10.325951901119202,
          10.260107294937594,
          10.191724891029391,
          10.125692108693535,
          10.065853547458877,
          10.011851505557717,
          9.96226989275253,
          9.91569261878998,
          9.870703593416714,
          9.825886726379393
         ]
        },
        {
         "hoverinfo": "none",
         "line": {
          "color": "grey",
          "dash": "dot"
         },
         "mode": "lines",
         "name": "Convex Hull",
         "type": "scatter",
         "x": [
          3.1748628616333012,
          3.1265185816972174,
          3.08730605518115,
          3.0565804270354526,
          3.0336968422104795,
          3.018010445656587,
          3.0088776101137786,
          3.0058635026617297,
          3.0089760791823092,
          3.018279789622484,
          3.0338390839292155,
          3.0557184120494694,
          3.0839822239302093,
          3.1186949695184003,
          3.1599210987610062,
          3.207725061604992,
          3.2621713079973205,
          3.323324287884957,
          3.391159447887368,
          3.4641259841703804,
          3.539390014778531,
          3.6140777485651365,
          3.685315394383518,
          3.7502291610869984,
          3.805945257528897,
          3.849601815723306,
          3.8800010587642126,
          3.899303621547773,
          3.910074260250955,
          3.914877731050722,
          3.9162752792580986,
          3.91595002752319,
          3.913555698595627,
          3.908460205481958,
          3.9000314611887306,
          3.887637378722497,
          3.870645871089807,
          3.8484248512972083,
          3.8203422323512535,
          3.785786224568013,
          3.744405126194458,
          3.696027252415611,
          3.640484518682538,
          3.5777828703676122,
          3.5095654572435233,
          3.4383733201313964,
          3.36675672552277,
          3.2972659399091855,
          3.232451229782182,
          3.1748628616333012
         ],
         "y": [
          10.96051502227783,
          10.917861283049817,
          10.865059109517908,
          10.804267145951275,
          10.73764403661908,
          10.6673484257905,
          10.595536056990978,
          10.523869381700278,
          10.452964730155662,
          10.383304961193867,
          10.315372933651604,
          10.249651506365614,
          10.186623538172615,
          10.126771887909335,
          10.070579414412498,
          10.018528976518835,
          9.971103433065071,
          9.92878564288793,
          9.892083736384592,
          9.861939206745356,
          9.839657863722808,
          9.826556848865378,
          9.823953303721511,
          9.833164369839647,
          9.855507188768229,
          9.892288423901299,
          9.943352324127515,
          10.005591743310399,
          10.07554439079637,
          10.149747975931852,
          10.224743970962043,
          10.29801500816051,
          10.369218803252076,
          10.438319398990663,
          10.50528083813017,
          10.57006716342453,
          10.632642417627657,
          10.692970643493465,
          10.751015883775878,
          10.806671156164615,
          10.858919369452112,
          10.906113510786927,
          10.946593969139204,
          10.978774257564801,
          11.001755811483786,
          11.015017343174716,
          11.018041441368585,
          11.010310694796393,
          10.99130769218914,
          10.960515022277832
         ]
        }
       ],
       "layout": {
        "annotations": [
         {
          "arrowcolor": "#ff7f0e",
          "arrowhead": 1,
          "bgcolor": "white",
          "bordercolor": "#c7c7c7",
          "borderpad": 1.6,
          "borderwidth": 0.8,
          "font": {
           "color": "blue",
           "family": "Courier New, monospace",
           "size": 8
          },
          "opacity": 1,
          "showarrow": true,
          "text": "Technology (Media)<br>",
          "x": 1.33876946899626,
          "y": 7.721759027904934
         },
         {
          "arrowcolor": "#ff7f0e",
          "arrowhead": 1,
          "bgcolor": "white",
          "bordercolor": "#c7c7c7",
          "borderpad": 1.6,
          "borderwidth": 0.8,
          "font": {
           "color": "blue",
           "family": "Courier New, monospace",
           "size": 8
          },
          "opacity": 1,
          "showarrow": true,
          "text": "Human biology<br>",
          "x": 4.656313828059605,
          "y": 9.3171033178057
         },
         {
          "arrowcolor": "#ff7f0e",
          "arrowhead": 1,
          "bgcolor": "white",
          "bordercolor": "#c7c7c7",
          "borderpad": 1.6,
          "borderwidth": 0.8,
          "font": {
           "color": "blue",
           "family": "Courier New, monospace",
           "size": 8
          },
          "opacity": 1,
          "showarrow": true,
          "text": "Technology (Construction)<br>",
          "x": 0.6857929510565904,
          "y": 9.120279165414663
         },
         {
          "arrowcolor": "#ff7f0e",
          "arrowhead": 1,
          "bgcolor": "white",
          "bordercolor": "#c7c7c7",
          "borderpad": 1.6,
          "borderwidth": 0.8,
          "font": {
           "color": "blue",
           "family": "Courier New, monospace",
           "size": 8
          },
          "opacity": 1,
          "showarrow": true,
          "text": "Science (Astrophysics)<br>",
          "x": 2.2521039030768653,
          "y": 11.116913882168857
         },
         {
          "arrowcolor": "#ff7f0e",
          "arrowhead": 1,
          "bgcolor": "white",
          "bordercolor": "#c7c7c7",
          "borderpad": 1.6,
          "borderwidth": 0.8,
          "font": {
           "color": "blue",
           "family": "Courier New, monospace",
           "size": 8
          },
          "opacity": 1,
          "showarrow": true,
          "text": "Animal biology<br>",
          "x": 2.673507111413138,
          "y": 9.617876393454415
         },
         {
          "arrowcolor": "#ff7f0e",
          "arrowhead": 1,
          "bgcolor": "white",
          "bordercolor": "#c7c7c7",
          "borderpad": 1.6,
          "borderwidth": 0.8,
          "font": {
           "color": "blue",
           "family": "Courier New, monospace",
           "size": 8
          },
          "opacity": 1,
          "showarrow": true,
          "text": "Technology (Engine)<br>",
          "x": 0.18224476338364184,
          "y": 8.2446457862854
         },
         {
          "arrowcolor": "#ff7f0e",
          "arrowhead": 1,
          "bgcolor": "white",
          "bordercolor": "#c7c7c7",
          "borderpad": 1.6,
          "borderwidth": 0.8,
          "font": {
           "color": "blue",
           "family": "Courier New, monospace",
           "size": 8
          },
          "opacity": 1,
          "showarrow": true,
          "text": "Human biology (medecine)<br>",
          "x": 4.881141328811646,
          "y": 8.413136100769043
         },
         {
          "arrowcolor": "#ff7f0e",
          "arrowhead": 1,
          "bgcolor": "white",
          "bordercolor": "#c7c7c7",
          "borderpad": 1.6,
          "borderwidth": 0.8,
          "font": {
           "color": "blue",
           "family": "Courier New, monospace",
           "size": 8
          },
          "opacity": 1,
          "showarrow": true,
          "text": "Economic<br>",
          "x": 0.9152346476912498,
          "y": 10.563417315483093
         },
         {
          "arrowcolor": "#ff7f0e",
          "arrowhead": 1,
          "bgcolor": "white",
          "bordercolor": "#c7c7c7",
          "borderpad": 1.6,
          "borderwidth": 0.8,
          "font": {
           "color": "blue",
           "family": "Courier New, monospace",
           "size": 8
          },
          "opacity": 1,
          "showarrow": true,
          "text": "Mixed topics (blood and home)<br>",
          "x": 3.946678491739126,
          "y": 8.04311910042396
         },
         {
          "arrowcolor": "#ff7f0e",
          "arrowhead": 1,
          "bgcolor": "white",
          "bordercolor": "#c7c7c7",
          "borderpad": 1.6,
          "borderwidth": 0.8,
          "font": {
           "color": "blue",
           "family": "Courier New, monospace",
           "size": 8
          },
          "opacity": 1,
          "showarrow": true,
          "text": "Technology (household appliances)<br>",
          "x": 2.790907354915843,
          "y": 8.223888705758487
         },
         {
          "arrowcolor": "#ff7f0e",
          "arrowhead": 1,
          "bgcolor": "white",
          "bordercolor": "#c7c7c7",
          "borderpad": 1.6,
          "borderwidth": 0.8,
          "font": {
           "color": "blue",
           "family": "Courier New, monospace",
           "size": 8
          },
          "opacity": 1,
          "showarrow": true,
          "text": "Science (Climate Physics)<br>",
          "x": 1.57842679457231,
          "y": 9.85450484535911
         },
         {
          "arrowcolor": "#ff7f0e",
          "arrowhead": 1,
          "bgcolor": "white",
          "bordercolor": "#c7c7c7",
          "borderpad": 1.6,
          "borderwidth": 0.8,
          "font": {
           "color": "blue",
           "family": "Courier New, monospace",
           "size": 8
          },
          "opacity": 1,
          "showarrow": true,
          "text": "Technology (Phone)<br>",
          "x": 3.6011612632057886,
          "y": 10.510080337524414
         }
        ],
        "font": {
         "size": 25
        },
        "height": 800,
        "margin": {
         "b": 16,
         "l": 16,
         "r": 16,
         "t": 16
        },
        "showlegend": false,
        "template": {
         "data": {
          "bar": [
           {
            "error_x": {
             "color": "#2a3f5f"
            },
            "error_y": {
             "color": "#2a3f5f"
            },
            "marker": {
             "line": {
              "color": "#E5ECF6",
              "width": 0.5
             },
             "pattern": {
              "fillmode": "overlay",
              "size": 10,
              "solidity": 0.2
             }
            },
            "type": "bar"
           }
          ],
          "barpolar": [
           {
            "marker": {
             "line": {
              "color": "#E5ECF6",
              "width": 0.5
             },
             "pattern": {
              "fillmode": "overlay",
              "size": 10,
              "solidity": 0.2
             }
            },
            "type": "barpolar"
           }
          ],
          "carpet": [
           {
            "aaxis": {
             "endlinecolor": "#2a3f5f",
             "gridcolor": "white",
             "linecolor": "white",
             "minorgridcolor": "white",
             "startlinecolor": "#2a3f5f"
            },
            "baxis": {
             "endlinecolor": "#2a3f5f",
             "gridcolor": "white",
             "linecolor": "white",
             "minorgridcolor": "white",
             "startlinecolor": "#2a3f5f"
            },
            "type": "carpet"
           }
          ],
          "choropleth": [
           {
            "colorbar": {
             "outlinewidth": 0,
             "ticks": ""
            },
            "type": "choropleth"
           }
          ],
          "contour": [
           {
            "colorbar": {
             "outlinewidth": 0,
             "ticks": ""
            },
            "colorscale": [
             [
              0,
              "#0d0887"
             ],
             [
              0.1111111111111111,
              "#46039f"
             ],
             [
              0.2222222222222222,
              "#7201a8"
             ],
             [
              0.3333333333333333,
              "#9c179e"
             ],
             [
              0.4444444444444444,
              "#bd3786"
             ],
             [
              0.5555555555555556,
              "#d8576b"
             ],
             [
              0.6666666666666666,
              "#ed7953"
             ],
             [
              0.7777777777777778,
              "#fb9f3a"
             ],
             [
              0.8888888888888888,
              "#fdca26"
             ],
             [
              1,
              "#f0f921"
             ]
            ],
            "type": "contour"
           }
          ],
          "contourcarpet": [
           {
            "colorbar": {
             "outlinewidth": 0,
             "ticks": ""
            },
            "type": "contourcarpet"
           }
          ],
          "heatmap": [
           {
            "colorbar": {
             "outlinewidth": 0,
             "ticks": ""
            },
            "colorscale": [
             [
              0,
              "#0d0887"
             ],
             [
              0.1111111111111111,
              "#46039f"
             ],
             [
              0.2222222222222222,
              "#7201a8"
             ],
             [
              0.3333333333333333,
              "#9c179e"
             ],
             [
              0.4444444444444444,
              "#bd3786"
             ],
             [
              0.5555555555555556,
              "#d8576b"
             ],
             [
              0.6666666666666666,
              "#ed7953"
             ],
             [
              0.7777777777777778,
              "#fb9f3a"
             ],
             [
              0.8888888888888888,
              "#fdca26"
             ],
             [
              1,
              "#f0f921"
             ]
            ],
            "type": "heatmap"
           }
          ],
          "heatmapgl": [
           {
            "colorbar": {
             "outlinewidth": 0,
             "ticks": ""
            },
            "colorscale": [
             [
              0,
              "#0d0887"
             ],
             [
              0.1111111111111111,
              "#46039f"
             ],
             [
              0.2222222222222222,
              "#7201a8"
             ],
             [
              0.3333333333333333,
              "#9c179e"
             ],
             [
              0.4444444444444444,
              "#bd3786"
             ],
             [
              0.5555555555555556,
              "#d8576b"
             ],
             [
              0.6666666666666666,
              "#ed7953"
             ],
             [
              0.7777777777777778,
              "#fb9f3a"
             ],
             [
              0.8888888888888888,
              "#fdca26"
             ],
             [
              1,
              "#f0f921"
             ]
            ],
            "type": "heatmapgl"
           }
          ],
          "histogram": [
           {
            "marker": {
             "pattern": {
              "fillmode": "overlay",
              "size": 10,
              "solidity": 0.2
             }
            },
            "type": "histogram"
           }
          ],
          "histogram2d": [
           {
            "colorbar": {
             "outlinewidth": 0,
             "ticks": ""
            },
            "colorscale": [
             [
              0,
              "#0d0887"
             ],
             [
              0.1111111111111111,
              "#46039f"
             ],
             [
              0.2222222222222222,
              "#7201a8"
             ],
             [
              0.3333333333333333,
              "#9c179e"
             ],
             [
              0.4444444444444444,
              "#bd3786"
             ],
             [
              0.5555555555555556,
              "#d8576b"
             ],
             [
              0.6666666666666666,
              "#ed7953"
             ],
             [
              0.7777777777777778,
              "#fb9f3a"
             ],
             [
              0.8888888888888888,
              "#fdca26"
             ],
             [
              1,
              "#f0f921"
             ]
            ],
            "type": "histogram2d"
           }
          ],
          "histogram2dcontour": [
           {
            "colorbar": {
             "outlinewidth": 0,
             "ticks": ""
            },
            "colorscale": [
             [
              0,
              "#0d0887"
             ],
             [
              0.1111111111111111,
              "#46039f"
             ],
             [
              0.2222222222222222,
              "#7201a8"
             ],
             [
              0.3333333333333333,
              "#9c179e"
             ],
             [
              0.4444444444444444,
              "#bd3786"
             ],
             [
              0.5555555555555556,
              "#d8576b"
             ],
             [
              0.6666666666666666,
              "#ed7953"
             ],
             [
              0.7777777777777778,
              "#fb9f3a"
             ],
             [
              0.8888888888888888,
              "#fdca26"
             ],
             [
              1,
              "#f0f921"
             ]
            ],
            "type": "histogram2dcontour"
           }
          ],
          "mesh3d": [
           {
            "colorbar": {
             "outlinewidth": 0,
             "ticks": ""
            },
            "type": "mesh3d"
           }
          ],
          "parcoords": [
           {
            "line": {
             "colorbar": {
              "outlinewidth": 0,
              "ticks": ""
             }
            },
            "type": "parcoords"
           }
          ],
          "pie": [
           {
            "automargin": true,
            "type": "pie"
           }
          ],
          "scatter": [
           {
            "fillpattern": {
             "fillmode": "overlay",
             "size": 10,
             "solidity": 0.2
            },
            "type": "scatter"
           }
          ],
          "scatter3d": [
           {
            "line": {
             "colorbar": {
              "outlinewidth": 0,
              "ticks": ""
             }
            },
            "marker": {
             "colorbar": {
              "outlinewidth": 0,
              "ticks": ""
             }
            },
            "type": "scatter3d"
           }
          ],
          "scattercarpet": [
           {
            "marker": {
             "colorbar": {
              "outlinewidth": 0,
              "ticks": ""
             }
            },
            "type": "scattercarpet"
           }
          ],
          "scattergeo": [
           {
            "marker": {
             "colorbar": {
              "outlinewidth": 0,
              "ticks": ""
             }
            },
            "type": "scattergeo"
           }
          ],
          "scattergl": [
           {
            "marker": {
             "colorbar": {
              "outlinewidth": 0,
              "ticks": ""
             }
            },
            "type": "scattergl"
           }
          ],
          "scattermapbox": [
           {
            "marker": {
             "colorbar": {
              "outlinewidth": 0,
              "ticks": ""
             }
            },
            "type": "scattermapbox"
           }
          ],
          "scatterpolar": [
           {
            "marker": {
             "colorbar": {
              "outlinewidth": 0,
              "ticks": ""
             }
            },
            "type": "scatterpolar"
           }
          ],
          "scatterpolargl": [
           {
            "marker": {
             "colorbar": {
              "outlinewidth": 0,
              "ticks": ""
             }
            },
            "type": "scatterpolargl"
           }
          ],
          "scatterternary": [
           {
            "marker": {
             "colorbar": {
              "outlinewidth": 0,
              "ticks": ""
             }
            },
            "type": "scatterternary"
           }
          ],
          "surface": [
           {
            "colorbar": {
             "outlinewidth": 0,
             "ticks": ""
            },
            "colorscale": [
             [
              0,
              "#0d0887"
             ],
             [
              0.1111111111111111,
              "#46039f"
             ],
             [
              0.2222222222222222,
              "#7201a8"
             ],
             [
              0.3333333333333333,
              "#9c179e"
             ],
             [
              0.4444444444444444,
              "#bd3786"
             ],
             [
              0.5555555555555556,
              "#d8576b"
             ],
             [
              0.6666666666666666,
              "#ed7953"
             ],
             [
              0.7777777777777778,
              "#fb9f3a"
             ],
             [
              0.8888888888888888,
              "#fdca26"
             ],
             [
              1,
              "#f0f921"
             ]
            ],
            "type": "surface"
           }
          ],
          "table": [
           {
            "cells": {
             "fill": {
              "color": "#EBF0F8"
             },
             "line": {
              "color": "white"
             }
            },
            "header": {
             "fill": {
              "color": "#C8D4E3"
             },
             "line": {
              "color": "white"
             }
            },
            "type": "table"
           }
          ]
         },
         "layout": {
          "annotationdefaults": {
           "arrowcolor": "#2a3f5f",
           "arrowhead": 0,
           "arrowwidth": 1
          },
          "autotypenumbers": "strict",
          "coloraxis": {
           "colorbar": {
            "outlinewidth": 0,
            "ticks": ""
           }
          },
          "colorscale": {
           "diverging": [
            [
             0,
             "#8e0152"
            ],
            [
             0.1,
             "#c51b7d"
            ],
            [
             0.2,
             "#de77ae"
            ],
            [
             0.3,
             "#f1b6da"
            ],
            [
             0.4,
             "#fde0ef"
            ],
            [
             0.5,
             "#f7f7f7"
            ],
            [
             0.6,
             "#e6f5d0"
            ],
            [
             0.7,
             "#b8e186"
            ],
            [
             0.8,
             "#7fbc41"
            ],
            [
             0.9,
             "#4d9221"
            ],
            [
             1,
             "#276419"
            ]
           ],
           "sequential": [
            [
             0,
             "#0d0887"
            ],
            [
             0.1111111111111111,
             "#46039f"
            ],
            [
             0.2222222222222222,
             "#7201a8"
            ],
            [
             0.3333333333333333,
             "#9c179e"
            ],
            [
             0.4444444444444444,
             "#bd3786"
            ],
            [
             0.5555555555555556,
             "#d8576b"
            ],
            [
             0.6666666666666666,
             "#ed7953"
            ],
            [
             0.7777777777777778,
             "#fb9f3a"
            ],
            [
             0.8888888888888888,
             "#fdca26"
            ],
            [
             1,
             "#f0f921"
            ]
           ],
           "sequentialminus": [
            [
             0,
             "#0d0887"
            ],
            [
             0.1111111111111111,
             "#46039f"
            ],
            [
             0.2222222222222222,
             "#7201a8"
            ],
            [
             0.3333333333333333,
             "#9c179e"
            ],
            [
             0.4444444444444444,
             "#bd3786"
            ],
            [
             0.5555555555555556,
             "#d8576b"
            ],
            [
             0.6666666666666666,
             "#ed7953"
            ],
            [
             0.7777777777777778,
             "#fb9f3a"
            ],
            [
             0.8888888888888888,
             "#fdca26"
            ],
            [
             1,
             "#f0f921"
            ]
           ]
          },
          "colorway": [
           "#636efa",
           "#EF553B",
           "#00cc96",
           "#ab63fa",
           "#FFA15A",
           "#19d3f3",
           "#FF6692",
           "#B6E880",
           "#FF97FF",
           "#FECB52"
          ],
          "font": {
           "color": "#2a3f5f"
          },
          "geo": {
           "bgcolor": "white",
           "lakecolor": "white",
           "landcolor": "#E5ECF6",
           "showlakes": true,
           "showland": true,
           "subunitcolor": "white"
          },
          "hoverlabel": {
           "align": "left"
          },
          "hovermode": "closest",
          "mapbox": {
           "style": "light"
          },
          "paper_bgcolor": "white",
          "plot_bgcolor": "#E5ECF6",
          "polar": {
           "angularaxis": {
            "gridcolor": "white",
            "linecolor": "white",
            "ticks": ""
           },
           "bgcolor": "#E5ECF6",
           "radialaxis": {
            "gridcolor": "white",
            "linecolor": "white",
            "ticks": ""
           }
          },
          "scene": {
           "xaxis": {
            "backgroundcolor": "#E5ECF6",
            "gridcolor": "white",
            "gridwidth": 2,
            "linecolor": "white",
            "showbackground": true,
            "ticks": "",
            "zerolinecolor": "white"
           },
           "yaxis": {
            "backgroundcolor": "#E5ECF6",
            "gridcolor": "white",
            "gridwidth": 2,
            "linecolor": "white",
            "showbackground": true,
            "ticks": "",
            "zerolinecolor": "white"
           },
           "zaxis": {
            "backgroundcolor": "#E5ECF6",
            "gridcolor": "white",
            "gridwidth": 2,
            "linecolor": "white",
            "showbackground": true,
            "ticks": "",
            "zerolinecolor": "white"
           }
          },
          "shapedefaults": {
           "line": {
            "color": "#2a3f5f"
           }
          },
          "ternary": {
           "aaxis": {
            "gridcolor": "white",
            "linecolor": "white",
            "ticks": ""
           },
           "baxis": {
            "gridcolor": "white",
            "linecolor": "white",
            "ticks": ""
           },
           "bgcolor": "#E5ECF6",
           "caxis": {
            "gridcolor": "white",
            "linecolor": "white",
            "ticks": ""
           }
          },
          "title": {
           "x": 0.05
          },
          "xaxis": {
           "automargin": true,
           "gridcolor": "white",
           "linecolor": "white",
           "ticks": "",
           "title": {
            "standoff": 15
           },
           "zerolinecolor": "white",
           "zerolinewidth": 2
          },
          "yaxis": {
           "automargin": true,
           "gridcolor": "white",
           "linecolor": "white",
           "ticks": "",
           "title": {
            "standoff": 15
           },
           "zerolinecolor": "white",
           "zerolinewidth": 2
          }
         }
        },
        "title": {
         "font": {
          "size": 20
         }
        },
        "width": 800,
        "xaxis": {
         "showgrid": false,
         "showticklabels": false,
         "zeroline": false
        },
        "yaxis": {
         "showgrid": false,
         "showticklabels": false,
         "zeroline": false
        }
       }
      }
     },
     "metadata": {},
     "output_type": "display_data"
    }
   ],
   "source": [
    "plot"
   ]
  },
  {
   "cell_type": "code",
   "execution_count": 14,
   "metadata": {},
   "outputs": [],
   "source": [
    "plot.write_html(\"Topics_visualization.html\")"
   ]
  },
  {
   "cell_type": "code",
   "execution_count": 15,
   "metadata": {},
   "outputs": [],
   "source": [
    "topics = bunka.docs"
   ]
  },
  {
   "cell_type": "code",
   "execution_count": 17,
   "metadata": {},
   "outputs": [
    {
     "name": "stdout",
     "output_type": "stream",
     "text": [
      "   topic_id                         topic_name  size  percent\n",
      "0      bt-0                 Technology (Media)    18    12.00\n",
      "1      bt-7  Technology (household appliances)    17    11.33\n",
      "2      bt-1                      Human biology    14     9.33\n",
      "3      bt-2                     Animal biology    14     9.33\n",
      "4     bt-10          Technology (Construction)    13     8.67\n",
      "5      bt-6      Mixed topics (blood and home)    13     8.67\n",
      "6     bt-11             Science (Astrophysics)    11     7.33\n",
      "7      bt-8          Science (Climate Physics)    11     7.33\n",
      "8      bt-9                 Technology (Phone)    11     7.33\n",
      "9      bt-3                Technology (Engine)    10     6.67\n",
      "10     bt-4           Human biology (medecine)    10     6.67\n",
      "11     bt-5                           Economic     8     5.33\n"
     ]
    }
   ],
   "source": [
    "print(bunka.df_topics_)"
   ]
  },
  {
   "cell_type": "code",
   "execution_count": 26,
   "metadata": {},
   "outputs": [],
   "source": [
    "# from topics get the list of topic_name for each document\n",
    "\n",
    "topic_names = []\n",
    "for i in range(len(topics)):\n",
    "    topic_names.append(topics[i].topic_id)"
   ]
  },
  {
   "cell_type": "code",
   "execution_count": 30,
   "metadata": {},
   "outputs": [],
   "source": [
    "Stim[\"topic_id\"] = topic_names"
   ]
  },
  {
   "cell_type": "code",
   "execution_count": 45,
   "metadata": {},
   "outputs": [],
   "source": [
    "for i, row in Stim.iterrows():\n",
    "    id = row['topic_id']\n",
    "    topic_name = bunka.df_topics_.loc[bunka.df_topics_['topic_id'] == id, 'topic_name'].values[0]\n",
    "    Stim.at[i, 'topic_name'] = topic_name"
   ]
  },
  {
   "cell_type": "code",
   "execution_count": 46,
   "metadata": {},
   "outputs": [
    {
     "data": {
      "text/html": [
       "<div>\n",
       "<style scoped>\n",
       "    .dataframe tbody tr th:only-of-type {\n",
       "        vertical-align: middle;\n",
       "    }\n",
       "\n",
       "    .dataframe tbody tr th {\n",
       "        vertical-align: top;\n",
       "    }\n",
       "\n",
       "    .dataframe thead th {\n",
       "        text-align: right;\n",
       "    }\n",
       "</style>\n",
       "<table border=\"1\" class=\"dataframe\">\n",
       "  <thead>\n",
       "    <tr style=\"text-align: right;\">\n",
       "      <th></th>\n",
       "      <th>oldIndex</th>\n",
       "      <th>submissionID</th>\n",
       "      <th>question</th>\n",
       "      <th>questionHTML</th>\n",
       "      <th>submissionScore</th>\n",
       "      <th>commentID</th>\n",
       "      <th>comment</th>\n",
       "      <th>commentHTML</th>\n",
       "      <th>commentScore</th>\n",
       "      <th>similarity</th>\n",
       "      <th>commentLength</th>\n",
       "      <th>url</th>\n",
       "      <th>used</th>\n",
       "      <th>correctedQuestionHTML</th>\n",
       "      <th>correctedCommentHTML</th>\n",
       "      <th>newIndex</th>\n",
       "      <th>topic_name</th>\n",
       "      <th>topic_id</th>\n",
       "    </tr>\n",
       "  </thead>\n",
       "  <tbody>\n",
       "    <tr>\n",
       "      <th>0</th>\n",
       "      <td>992.0</td>\n",
       "      <td>pwi72x</td>\n",
       "      <td>How do scientists figure out how old writing i...</td>\n",
       "      <td>&lt;p&gt;How do scientists figure out how old writin...</td>\n",
       "      <td>292.0</td>\n",
       "      <td>hehhnkx</td>\n",
       "      <td>\\n\\n  Strata.\\n \\n\\n  What's on top of the wri...</td>\n",
       "      <td>&lt;div class=\"md\"&gt;\\n &lt;p&gt;\\n  Strata.\\n &lt;/p&gt;\\n &lt;p&gt;...</td>\n",
       "      <td>205.0</td>\n",
       "      <td>0.624875</td>\n",
       "      <td>790.0</td>\n",
       "      <td>reddit.com/pwi72x</td>\n",
       "      <td>yes</td>\n",
       "      <td>&lt;p&gt;How do scientists figure out how old writin...</td>\n",
       "      <td>&lt;div class=\"md\"&gt;\\n &lt;p&gt;\\n  Strata.\\n &lt;/p&gt;\\n &lt;p&gt;...</td>\n",
       "      <td>1.0</td>\n",
       "      <td>Science (Astrophysics)</td>\n",
       "      <td>bt-11</td>\n",
       "    </tr>\n",
       "    <tr>\n",
       "      <th>1</th>\n",
       "      <td>192.0</td>\n",
       "      <td>u4gx3l</td>\n",
       "      <td>Why is \"beer gut\" fat firm and stored in one p...</td>\n",
       "      <td>&lt;p&gt;Why is \"beer gut\" fat firm and stored in on...</td>\n",
       "      <td>8030.0</td>\n",
       "      <td>i4vle9c</td>\n",
       "      <td>\\n\\n  Visceral fat feels firm because you're n...</td>\n",
       "      <td>&lt;div class=\"md\"&gt;\\n &lt;p&gt;\\n  Visceral fat feels f...</td>\n",
       "      <td>8692.0</td>\n",
       "      <td>0.469806</td>\n",
       "      <td>293.0</td>\n",
       "      <td>reddit.com/u4gx3l</td>\n",
       "      <td>yes</td>\n",
       "      <td>&lt;p&gt;Why is \"beer gut\" fat firm and stored in on...</td>\n",
       "      <td>&lt;div class=\"md\"&gt;\\n &lt;p&gt;\\n  Visceral fat feels f...</td>\n",
       "      <td>2.0</td>\n",
       "      <td>Human biology (medecine)</td>\n",
       "      <td>bt-4</td>\n",
       "    </tr>\n",
       "    <tr>\n",
       "      <th>2</th>\n",
       "      <td>198.0</td>\n",
       "      <td>o4l3jl</td>\n",
       "      <td>How do egg cells “know” not to accept more spe...</td>\n",
       "      <td>&lt;p&gt;How do egg cells “know” not to accept more ...</td>\n",
       "      <td>7896.0</td>\n",
       "      <td>h2hzddp</td>\n",
       "      <td>\\n\\n  The cortical reaction! \\nTo ELI5 it:\\nFi...</td>\n",
       "      <td>&lt;div class=\"md\"&gt;\\n &lt;p&gt;\\n  The cortical reactio...</td>\n",
       "      <td>6861.0</td>\n",
       "      <td>0.703971</td>\n",
       "      <td>649.0</td>\n",
       "      <td>reddit.com/o4l3jl</td>\n",
       "      <td>yes</td>\n",
       "      <td>&lt;p&gt;How do egg cells “know” not to accept more ...</td>\n",
       "      <td>&lt;div class=\"md\"&gt;\\n &lt;p&gt;\\n  The cortical reactio...</td>\n",
       "      <td>3.0</td>\n",
       "      <td>Technology (Phone)</td>\n",
       "      <td>bt-9</td>\n",
       "    </tr>\n",
       "    <tr>\n",
       "      <th>3</th>\n",
       "      <td>240.0</td>\n",
       "      <td>tsompf</td>\n",
       "      <td>Why is a Planck’s length the smallest possible...</td>\n",
       "      <td>&lt;p&gt;Why is a Planck’s length the smallest possi...</td>\n",
       "      <td>6728.0</td>\n",
       "      <td>i2so821</td>\n",
       "      <td>\\n\\n  It's a combination of several fundamenta...</td>\n",
       "      <td>&lt;div class=\"md\"&gt;\\n &lt;p&gt;\\n  It's a combination o...</td>\n",
       "      <td>11335.0</td>\n",
       "      <td>0.645048</td>\n",
       "      <td>459.0</td>\n",
       "      <td>reddit.com/tsompf</td>\n",
       "      <td>yes</td>\n",
       "      <td>&lt;p&gt;Why is a Planck’s length the smallest possi...</td>\n",
       "      <td>&lt;div class=\"md\"&gt;\\n &lt;p&gt;\\n  It's a combination o...</td>\n",
       "      <td>4.0</td>\n",
       "      <td>Science (Astrophysics)</td>\n",
       "      <td>bt-11</td>\n",
       "    </tr>\n",
       "    <tr>\n",
       "      <th>4</th>\n",
       "      <td>363.0</td>\n",
       "      <td>plrjrs</td>\n",
       "      <td>What is the difference between how a strong ac...</td>\n",
       "      <td>&lt;p&gt;What is the difference between how a strong...</td>\n",
       "      <td>3702.0</td>\n",
       "      <td>hccp537</td>\n",
       "      <td>\\n\\n  An acid burn results in something called...</td>\n",
       "      <td>&lt;div class=\"md\"&gt;\\n &lt;p&gt;\\n  An acid burn results...</td>\n",
       "      <td>3944.0</td>\n",
       "      <td>0.712167</td>\n",
       "      <td>516.0</td>\n",
       "      <td>reddit.com/plrjrs</td>\n",
       "      <td>yes</td>\n",
       "      <td>&lt;p&gt;What is the difference between how a strong...</td>\n",
       "      <td>&lt;div class=\"md\"&gt;\\n &lt;p&gt;\\n  An acid burn results...</td>\n",
       "      <td>5.0</td>\n",
       "      <td>Animal biology</td>\n",
       "      <td>bt-2</td>\n",
       "    </tr>\n",
       "    <tr>\n",
       "      <th>...</th>\n",
       "      <td>...</td>\n",
       "      <td>...</td>\n",
       "      <td>...</td>\n",
       "      <td>...</td>\n",
       "      <td>...</td>\n",
       "      <td>...</td>\n",
       "      <td>...</td>\n",
       "      <td>...</td>\n",
       "      <td>...</td>\n",
       "      <td>...</td>\n",
       "      <td>...</td>\n",
       "      <td>...</td>\n",
       "      <td>...</td>\n",
       "      <td>...</td>\n",
       "      <td>...</td>\n",
       "      <td>...</td>\n",
       "      <td>...</td>\n",
       "      <td>...</td>\n",
       "    </tr>\n",
       "    <tr>\n",
       "      <th>145</th>\n",
       "      <td>162.0</td>\n",
       "      <td>obwt2b</td>\n",
       "      <td>How can geologists really know that there is a...</td>\n",
       "      <td>&lt;p&gt;How can geologists really know that there i...</td>\n",
       "      <td>8875.0</td>\n",
       "      <td>h3qmzao</td>\n",
       "      <td>\\n\\n  To explode the rock under the ground nee...</td>\n",
       "      <td>&lt;div class=\"md\"&gt;\\n &lt;p&gt;\\n  To explode the rock ...</td>\n",
       "      <td>6175.0</td>\n",
       "      <td>0.457040</td>\n",
       "      <td>266.0</td>\n",
       "      <td>reddit.com/obwt2b</td>\n",
       "      <td>yes</td>\n",
       "      <td>&lt;p&gt;How can geologists really know that there i...</td>\n",
       "      <td>&lt;div class=\"md\"&gt;\\n &lt;p&gt;\\n  To explode the rock ...</td>\n",
       "      <td>158.0</td>\n",
       "      <td>Science (Astrophysics)</td>\n",
       "      <td>bt-11</td>\n",
       "    </tr>\n",
       "    <tr>\n",
       "      <th>146</th>\n",
       "      <td>52.0</td>\n",
       "      <td>t3h7i0</td>\n",
       "      <td>do tanks actually have explosives attached to ...</td>\n",
       "      <td>&lt;p&gt;do tanks actually have explosives attached ...</td>\n",
       "      <td>13149.0</td>\n",
       "      <td>hys782j</td>\n",
       "      <td>\\n\\n  Yes, they do have explosives strapped to...</td>\n",
       "      <td>&lt;div class=\"md\"&gt;\\n &lt;p&gt;\\n  Yes, they do have ex...</td>\n",
       "      <td>16217.0</td>\n",
       "      <td>0.825666</td>\n",
       "      <td>802.0</td>\n",
       "      <td>reddit.com/t3h7i0</td>\n",
       "      <td>yes</td>\n",
       "      <td>&lt;p&gt;do tanks actually have explosives attached ...</td>\n",
       "      <td>&lt;div class=\"md\"&gt;\\n &lt;p&gt;\\n  Yes, they do have ex...</td>\n",
       "      <td>159.0</td>\n",
       "      <td>Technology (household appliances)</td>\n",
       "      <td>bt-7</td>\n",
       "    </tr>\n",
       "    <tr>\n",
       "      <th>147</th>\n",
       "      <td>835.0</td>\n",
       "      <td>qkkojs</td>\n",
       "      <td>How does the presence of steel bars in concret...</td>\n",
       "      <td>&lt;p&gt;How does the presence of steel bars in conc...</td>\n",
       "      <td>459.0</td>\n",
       "      <td>hiwz98r</td>\n",
       "      <td>\\n\\n  Concrete is good in compression, but ter...</td>\n",
       "      <td>&lt;div class=\"md\"&gt;\\n &lt;p&gt;\\n  Concrete is good in ...</td>\n",
       "      <td>641.0</td>\n",
       "      <td>0.578832</td>\n",
       "      <td>729.0</td>\n",
       "      <td>reddit.com/qkkojs</td>\n",
       "      <td>yes</td>\n",
       "      <td>&lt;p&gt;How does the presence of steel bars in conc...</td>\n",
       "      <td>&lt;div class=\"md\"&gt;\\n &lt;p&gt;\\n  Concrete is good in ...</td>\n",
       "      <td>160.0</td>\n",
       "      <td>Technology (Construction)</td>\n",
       "      <td>bt-10</td>\n",
       "    </tr>\n",
       "    <tr>\n",
       "      <th>148</th>\n",
       "      <td>82.0</td>\n",
       "      <td>rqgmjq</td>\n",
       "      <td>Why are planes not getting faster?</td>\n",
       "      <td>&lt;p&gt;Why are planes not getting faster?&lt;/p&gt;</td>\n",
       "      <td>11413.0</td>\n",
       "      <td>hqa1g6a</td>\n",
       "      <td>\\n\\n  Passenger aircraft fly around 85% the sp...</td>\n",
       "      <td>&lt;div class=\"md\"&gt;\\n &lt;p&gt;\\n  Passenger aircraft f...</td>\n",
       "      <td>16423.0</td>\n",
       "      <td>0.535932</td>\n",
       "      <td>471.0</td>\n",
       "      <td>reddit.com/rqgmjq</td>\n",
       "      <td>yes</td>\n",
       "      <td>&lt;p&gt;Why are planes not getting faster?&lt;/p&gt;</td>\n",
       "      <td>&lt;div class=\"md\"&gt;\\n &lt;p&gt;\\n  Passenger aircraft f...</td>\n",
       "      <td>161.0</td>\n",
       "      <td>Technology (Media)</td>\n",
       "      <td>bt-0</td>\n",
       "    </tr>\n",
       "    <tr>\n",
       "      <th>149</th>\n",
       "      <td>350.0</td>\n",
       "      <td>owfcbb</td>\n",
       "      <td>How is it possible that deserts are super hot ...</td>\n",
       "      <td>&lt;p&gt;How is it possible that deserts are super h...</td>\n",
       "      <td>4176.0</td>\n",
       "      <td>h7fjk36</td>\n",
       "      <td>\\n\\n  Water is an excellent heat sink - it abs...</td>\n",
       "      <td>&lt;div class=\"md\"&gt;\\n &lt;p&gt;\\n  Water is an excellen...</td>\n",
       "      <td>4100.0</td>\n",
       "      <td>0.559823</td>\n",
       "      <td>496.0</td>\n",
       "      <td>reddit.com/owfcbb</td>\n",
       "      <td>yes</td>\n",
       "      <td>&lt;p&gt;How is it possible that deserts are super h...</td>\n",
       "      <td>&lt;div class=\"md\"&gt;\\n &lt;p&gt;\\n  Water is an excellen...</td>\n",
       "      <td>162.0</td>\n",
       "      <td>Science (Climate Physics)</td>\n",
       "      <td>bt-8</td>\n",
       "    </tr>\n",
       "  </tbody>\n",
       "</table>\n",
       "<p>150 rows × 18 columns</p>\n",
       "</div>"
      ],
      "text/plain": [
       "     oldIndex submissionID                                           question  \\\n",
       "0       992.0       pwi72x  How do scientists figure out how old writing i...   \n",
       "1       192.0       u4gx3l  Why is \"beer gut\" fat firm and stored in one p...   \n",
       "2       198.0       o4l3jl  How do egg cells “know” not to accept more spe...   \n",
       "3       240.0       tsompf  Why is a Planck’s length the smallest possible...   \n",
       "4       363.0       plrjrs  What is the difference between how a strong ac...   \n",
       "..        ...          ...                                                ...   \n",
       "145     162.0       obwt2b  How can geologists really know that there is a...   \n",
       "146      52.0       t3h7i0  do tanks actually have explosives attached to ...   \n",
       "147     835.0       qkkojs  How does the presence of steel bars in concret...   \n",
       "148      82.0       rqgmjq                 Why are planes not getting faster?   \n",
       "149     350.0       owfcbb  How is it possible that deserts are super hot ...   \n",
       "\n",
       "                                          questionHTML  submissionScore  \\\n",
       "0    <p>How do scientists figure out how old writin...            292.0   \n",
       "1    <p>Why is \"beer gut\" fat firm and stored in on...           8030.0   \n",
       "2    <p>How do egg cells “know” not to accept more ...           7896.0   \n",
       "3    <p>Why is a Planck’s length the smallest possi...           6728.0   \n",
       "4    <p>What is the difference between how a strong...           3702.0   \n",
       "..                                                 ...              ...   \n",
       "145  <p>How can geologists really know that there i...           8875.0   \n",
       "146  <p>do tanks actually have explosives attached ...          13149.0   \n",
       "147  <p>How does the presence of steel bars in conc...            459.0   \n",
       "148          <p>Why are planes not getting faster?</p>          11413.0   \n",
       "149  <p>How is it possible that deserts are super h...           4176.0   \n",
       "\n",
       "    commentID                                            comment  \\\n",
       "0     hehhnkx  \\n\\n  Strata.\\n \\n\\n  What's on top of the wri...   \n",
       "1     i4vle9c  \\n\\n  Visceral fat feels firm because you're n...   \n",
       "2     h2hzddp  \\n\\n  The cortical reaction! \\nTo ELI5 it:\\nFi...   \n",
       "3     i2so821  \\n\\n  It's a combination of several fundamenta...   \n",
       "4     hccp537  \\n\\n  An acid burn results in something called...   \n",
       "..        ...                                                ...   \n",
       "145   h3qmzao  \\n\\n  To explode the rock under the ground nee...   \n",
       "146   hys782j  \\n\\n  Yes, they do have explosives strapped to...   \n",
       "147   hiwz98r  \\n\\n  Concrete is good in compression, but ter...   \n",
       "148   hqa1g6a  \\n\\n  Passenger aircraft fly around 85% the sp...   \n",
       "149   h7fjk36  \\n\\n  Water is an excellent heat sink - it abs...   \n",
       "\n",
       "                                           commentHTML  commentScore  \\\n",
       "0    <div class=\"md\">\\n <p>\\n  Strata.\\n </p>\\n <p>...         205.0   \n",
       "1    <div class=\"md\">\\n <p>\\n  Visceral fat feels f...        8692.0   \n",
       "2    <div class=\"md\">\\n <p>\\n  The cortical reactio...        6861.0   \n",
       "3    <div class=\"md\">\\n <p>\\n  It's a combination o...       11335.0   \n",
       "4    <div class=\"md\">\\n <p>\\n  An acid burn results...        3944.0   \n",
       "..                                                 ...           ...   \n",
       "145  <div class=\"md\">\\n <p>\\n  To explode the rock ...        6175.0   \n",
       "146  <div class=\"md\">\\n <p>\\n  Yes, they do have ex...       16217.0   \n",
       "147  <div class=\"md\">\\n <p>\\n  Concrete is good in ...         641.0   \n",
       "148  <div class=\"md\">\\n <p>\\n  Passenger aircraft f...       16423.0   \n",
       "149  <div class=\"md\">\\n <p>\\n  Water is an excellen...        4100.0   \n",
       "\n",
       "     similarity  commentLength                url used  \\\n",
       "0      0.624875          790.0  reddit.com/pwi72x  yes   \n",
       "1      0.469806          293.0  reddit.com/u4gx3l  yes   \n",
       "2      0.703971          649.0  reddit.com/o4l3jl  yes   \n",
       "3      0.645048          459.0  reddit.com/tsompf  yes   \n",
       "4      0.712167          516.0  reddit.com/plrjrs  yes   \n",
       "..          ...            ...                ...  ...   \n",
       "145    0.457040          266.0  reddit.com/obwt2b  yes   \n",
       "146    0.825666          802.0  reddit.com/t3h7i0  yes   \n",
       "147    0.578832          729.0  reddit.com/qkkojs  yes   \n",
       "148    0.535932          471.0  reddit.com/rqgmjq  yes   \n",
       "149    0.559823          496.0  reddit.com/owfcbb  yes   \n",
       "\n",
       "                                 correctedQuestionHTML  \\\n",
       "0    <p>How do scientists figure out how old writin...   \n",
       "1    <p>Why is \"beer gut\" fat firm and stored in on...   \n",
       "2    <p>How do egg cells “know” not to accept more ...   \n",
       "3    <p>Why is a Planck’s length the smallest possi...   \n",
       "4    <p>What is the difference between how a strong...   \n",
       "..                                                 ...   \n",
       "145  <p>How can geologists really know that there i...   \n",
       "146  <p>do tanks actually have explosives attached ...   \n",
       "147  <p>How does the presence of steel bars in conc...   \n",
       "148          <p>Why are planes not getting faster?</p>   \n",
       "149  <p>How is it possible that deserts are super h...   \n",
       "\n",
       "                                  correctedCommentHTML  newIndex  \\\n",
       "0    <div class=\"md\">\\n <p>\\n  Strata.\\n </p>\\n <p>...       1.0   \n",
       "1    <div class=\"md\">\\n <p>\\n  Visceral fat feels f...       2.0   \n",
       "2    <div class=\"md\">\\n <p>\\n  The cortical reactio...       3.0   \n",
       "3    <div class=\"md\">\\n <p>\\n  It's a combination o...       4.0   \n",
       "4    <div class=\"md\">\\n <p>\\n  An acid burn results...       5.0   \n",
       "..                                                 ...       ...   \n",
       "145  <div class=\"md\">\\n <p>\\n  To explode the rock ...     158.0   \n",
       "146  <div class=\"md\">\\n <p>\\n  Yes, they do have ex...     159.0   \n",
       "147  <div class=\"md\">\\n <p>\\n  Concrete is good in ...     160.0   \n",
       "148  <div class=\"md\">\\n <p>\\n  Passenger aircraft f...     161.0   \n",
       "149  <div class=\"md\">\\n <p>\\n  Water is an excellen...     162.0   \n",
       "\n",
       "                            topic_name topic_id  \n",
       "0               Science (Astrophysics)    bt-11  \n",
       "1             Human biology (medecine)     bt-4  \n",
       "2                   Technology (Phone)     bt-9  \n",
       "3               Science (Astrophysics)    bt-11  \n",
       "4                       Animal biology     bt-2  \n",
       "..                                 ...      ...  \n",
       "145             Science (Astrophysics)    bt-11  \n",
       "146  Technology (household appliances)     bt-7  \n",
       "147          Technology (Construction)    bt-10  \n",
       "148                 Technology (Media)     bt-0  \n",
       "149          Science (Climate Physics)     bt-8  \n",
       "\n",
       "[150 rows x 18 columns]"
      ]
     },
     "execution_count": 46,
     "metadata": {},
     "output_type": "execute_result"
    }
   ],
   "source": [
    "Stim"
   ]
  },
  {
   "cell_type": "code",
   "execution_count": 47,
   "metadata": {},
   "outputs": [],
   "source": [
    "# Save to csv\n",
    "\n",
    "Stim.to_csv(\"Data/Stim_Klopfenstein_2024_with_topics.csv\", index=False)"
   ]
  }
 ],
 "metadata": {
  "kernelspec": {
   "display_name": "Python 3",
   "language": "python",
   "name": "python3"
  },
  "language_info": {
   "codemirror_mode": {
    "name": "ipython",
    "version": 3
   },
   "file_extension": ".py",
   "mimetype": "text/x-python",
   "name": "python",
   "nbconvert_exporter": "python",
   "pygments_lexer": "ipython3",
   "version": "3.11.7"
  }
 },
 "nbformat": 4,
 "nbformat_minor": 2
}
